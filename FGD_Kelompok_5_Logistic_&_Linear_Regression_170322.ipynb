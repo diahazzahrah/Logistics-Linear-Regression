{
  "nbformat": 4,
  "nbformat_minor": 0,
  "metadata": {
    "colab": {
      "name": "FGD_Kelompok 5_Logistic & Linear Regression_170322.ipynb",
      "provenance": [],
      "collapsed_sections": [
        "snCpplibGEzT"
      ]
    },
    "kernelspec": {
      "name": "python3",
      "display_name": "Python 3"
    },
    "language_info": {
      "name": "python"
    }
  },
  "cells": [
    {
      "cell_type": "markdown",
      "source": [
        "*** Kelompok 5***\n",
        "1. Agung Wahyu Prayogo - Universitas Bhayangkara - Informatika\n",
        "2. Fanny Febryani - Universitas Pendidikan Indonesia - Matematika\n",
        "3. Diah Siti Fatimah Azzahrah - Universitas Negeri Semarang - Teknik Informatika \n"
      ],
      "metadata": {
        "id": "KpteL3O6vFOm"
      }
    },
    {
      "cell_type": "markdown",
      "source": [
        "\n",
        "\n",
        "### **Regresi Linear (Supervised Learning)**\n",
        "Regresi linear adalah analisis untuk mempelajari atau mengukur hubungan antar dua variabel atau lebih. Biasanya digunakan untuk menghitung prediksi seperti harga rumah, gaji, dll\n",
        "- Untuk menjelaskan apa pengaruh dari perubahan pada sebuah independent variable terhadap dependent variable melalui estimasi nilai numerik dari hubungan yang ada\n",
        "*Notes: Dependent variabel (variabel terikat) adalah Y dan Independent variabel (Variabel bebas) adalah X\n"
      ],
      "metadata": {
        "id": "tApD3bMiV3wI"
      }
    },
    {
      "cell_type": "code",
      "execution_count": null,
      "metadata": {
        "id": "SLlS0usvVfPW"
      },
      "outputs": [],
      "source": [
        "from __future__ import print_function\n",
        "from __future__ import division\n",
        "\n",
        "#Baris from __future__ import print_function mengaktifkan \n",
        "#pencetakan Python 3 di Python 2.6 dan yang lebih baru."
      ]
    },
    {
      "cell_type": "markdown",
      "source": [
        "Import Library"
      ],
      "metadata": {
        "id": "snCpplibGEzT"
      }
    },
    {
      "cell_type": "code",
      "execution_count": null,
      "metadata": {
        "id": "jMzQQgZlVfPX"
      },
      "outputs": [],
      "source": [
        "# Necessary Imports\n",
        "import pandas as pd                   #proses analisis data seperti manipulasi data, persiapan data, dan pembersihan data.\n",
        "import numpy as np                    #scientific computing.\n",
        "import matplotlib.pyplot as plt       #visualisasi data seperti membuat plot grafik.\n",
        "import seaborn as sns                 #untuk visualisasi data yang dibangun di atas matplotlib.\n",
        "import warnings             \n",
        "warnings.filterwarnings('ignore')\n",
        "%matplotlib inline\n"
      ]
    },
    {
      "cell_type": "code",
      "execution_count": null,
      "metadata": {
        "id": "CUEIqiyHVfPY"
      },
      "outputs": [],
      "source": [
        "from sklearn.linear_model import LinearRegression  # Module LinearRegression digunakan untuk memanggil algoritma Linear Regression."
      ]
    },
    {
      "cell_type": "markdown",
      "source": [
        "Mengimport file dataset "
      ],
      "metadata": {
        "id": "wOPwtu1rGA5b"
      }
    },
    {
      "cell_type": "code",
      "source": [
        "# Import file dataset\n",
        "data = pd.read_csv('kc_house_data.csv')\n",
        "# Menampilkan data\n",
        "data"
      ],
      "metadata": {
        "id": "X1ot3PS3XuXL",
        "colab": {
          "base_uri": "https://localhost:8080/",
          "height": 488
        },
        "outputId": "89bdf6f6-7a9d-430c-93fa-2f9f658374e8"
      },
      "execution_count": null,
      "outputs": [
        {
          "output_type": "execute_result",
          "data": {
            "text/plain": [
              "               id             date     price  bedrooms  bathrooms  \\\n",
              "0      7129300520  20141013T000000  221900.0         3       1.00   \n",
              "1      6414100192  20141209T000000  538000.0         3       2.25   \n",
              "2      5631500400  20150225T000000  180000.0         2       1.00   \n",
              "3      2487200875  20141209T000000  604000.0         4       3.00   \n",
              "4      1954400510  20150218T000000  510000.0         3       2.00   \n",
              "...           ...              ...       ...       ...        ...   \n",
              "21608   263000018  20140521T000000  360000.0         3       2.50   \n",
              "21609  6600060120  20150223T000000  400000.0         4       2.50   \n",
              "21610  1523300141  20140623T000000  402101.0         2       0.75   \n",
              "21611   291310100  20150116T000000  400000.0         3       2.50   \n",
              "21612  1523300157  20141015T000000  325000.0         2       0.75   \n",
              "\n",
              "       sqft_living  sqft_lot  floors  waterfront  view  ...  grade  \\\n",
              "0             1180      5650     1.0           0     0  ...      7   \n",
              "1             2570      7242     2.0           0     0  ...      7   \n",
              "2              770     10000     1.0           0     0  ...      6   \n",
              "3             1960      5000     1.0           0     0  ...      7   \n",
              "4             1680      8080     1.0           0     0  ...      8   \n",
              "...            ...       ...     ...         ...   ...  ...    ...   \n",
              "21608         1530      1131     3.0           0     0  ...      8   \n",
              "21609         2310      5813     2.0           0     0  ...      8   \n",
              "21610         1020      1350     2.0           0     0  ...      7   \n",
              "21611         1600      2388     2.0           0     0  ...      8   \n",
              "21612         1020      1076     2.0           0     0  ...      7   \n",
              "\n",
              "       sqft_above  sqft_basement  yr_built  yr_renovated  zipcode      lat  \\\n",
              "0          1180.0              0      1955             0    98178  47.5112   \n",
              "1          2170.0            400      1951          1991    98125  47.7210   \n",
              "2           770.0              0      1933             0    98028  47.7379   \n",
              "3          1050.0            910      1965             0    98136  47.5208   \n",
              "4          1680.0              0      1987             0    98074  47.6168   \n",
              "...           ...            ...       ...           ...      ...      ...   \n",
              "21608      1530.0              0      2009             0    98103  47.6993   \n",
              "21609      2310.0              0      2014             0    98146  47.5107   \n",
              "21610      1020.0              0      2009             0    98144  47.5944   \n",
              "21611      1600.0              0      2004             0    98027  47.5345   \n",
              "21612      1020.0              0      2008             0    98144  47.5941   \n",
              "\n",
              "          long  sqft_living15  sqft_lot15  \n",
              "0     -122.257           1340        5650  \n",
              "1     -122.319           1690        7639  \n",
              "2     -122.233           2720        8062  \n",
              "3     -122.393           1360        5000  \n",
              "4     -122.045           1800        7503  \n",
              "...        ...            ...         ...  \n",
              "21608 -122.346           1530        1509  \n",
              "21609 -122.362           1830        7200  \n",
              "21610 -122.299           1020        2007  \n",
              "21611 -122.069           1410        1287  \n",
              "21612 -122.299           1020        1357  \n",
              "\n",
              "[21613 rows x 21 columns]"
            ],
            "text/html": [
              "\n",
              "  <div id=\"df-03dc41ec-a2ef-450d-a01b-d4079f076b7a\">\n",
              "    <div class=\"colab-df-container\">\n",
              "      <div>\n",
              "<style scoped>\n",
              "    .dataframe tbody tr th:only-of-type {\n",
              "        vertical-align: middle;\n",
              "    }\n",
              "\n",
              "    .dataframe tbody tr th {\n",
              "        vertical-align: top;\n",
              "    }\n",
              "\n",
              "    .dataframe thead th {\n",
              "        text-align: right;\n",
              "    }\n",
              "</style>\n",
              "<table border=\"1\" class=\"dataframe\">\n",
              "  <thead>\n",
              "    <tr style=\"text-align: right;\">\n",
              "      <th></th>\n",
              "      <th>id</th>\n",
              "      <th>date</th>\n",
              "      <th>price</th>\n",
              "      <th>bedrooms</th>\n",
              "      <th>bathrooms</th>\n",
              "      <th>sqft_living</th>\n",
              "      <th>sqft_lot</th>\n",
              "      <th>floors</th>\n",
              "      <th>waterfront</th>\n",
              "      <th>view</th>\n",
              "      <th>...</th>\n",
              "      <th>grade</th>\n",
              "      <th>sqft_above</th>\n",
              "      <th>sqft_basement</th>\n",
              "      <th>yr_built</th>\n",
              "      <th>yr_renovated</th>\n",
              "      <th>zipcode</th>\n",
              "      <th>lat</th>\n",
              "      <th>long</th>\n",
              "      <th>sqft_living15</th>\n",
              "      <th>sqft_lot15</th>\n",
              "    </tr>\n",
              "  </thead>\n",
              "  <tbody>\n",
              "    <tr>\n",
              "      <th>0</th>\n",
              "      <td>7129300520</td>\n",
              "      <td>20141013T000000</td>\n",
              "      <td>221900.0</td>\n",
              "      <td>3</td>\n",
              "      <td>1.00</td>\n",
              "      <td>1180</td>\n",
              "      <td>5650</td>\n",
              "      <td>1.0</td>\n",
              "      <td>0</td>\n",
              "      <td>0</td>\n",
              "      <td>...</td>\n",
              "      <td>7</td>\n",
              "      <td>1180.0</td>\n",
              "      <td>0</td>\n",
              "      <td>1955</td>\n",
              "      <td>0</td>\n",
              "      <td>98178</td>\n",
              "      <td>47.5112</td>\n",
              "      <td>-122.257</td>\n",
              "      <td>1340</td>\n",
              "      <td>5650</td>\n",
              "    </tr>\n",
              "    <tr>\n",
              "      <th>1</th>\n",
              "      <td>6414100192</td>\n",
              "      <td>20141209T000000</td>\n",
              "      <td>538000.0</td>\n",
              "      <td>3</td>\n",
              "      <td>2.25</td>\n",
              "      <td>2570</td>\n",
              "      <td>7242</td>\n",
              "      <td>2.0</td>\n",
              "      <td>0</td>\n",
              "      <td>0</td>\n",
              "      <td>...</td>\n",
              "      <td>7</td>\n",
              "      <td>2170.0</td>\n",
              "      <td>400</td>\n",
              "      <td>1951</td>\n",
              "      <td>1991</td>\n",
              "      <td>98125</td>\n",
              "      <td>47.7210</td>\n",
              "      <td>-122.319</td>\n",
              "      <td>1690</td>\n",
              "      <td>7639</td>\n",
              "    </tr>\n",
              "    <tr>\n",
              "      <th>2</th>\n",
              "      <td>5631500400</td>\n",
              "      <td>20150225T000000</td>\n",
              "      <td>180000.0</td>\n",
              "      <td>2</td>\n",
              "      <td>1.00</td>\n",
              "      <td>770</td>\n",
              "      <td>10000</td>\n",
              "      <td>1.0</td>\n",
              "      <td>0</td>\n",
              "      <td>0</td>\n",
              "      <td>...</td>\n",
              "      <td>6</td>\n",
              "      <td>770.0</td>\n",
              "      <td>0</td>\n",
              "      <td>1933</td>\n",
              "      <td>0</td>\n",
              "      <td>98028</td>\n",
              "      <td>47.7379</td>\n",
              "      <td>-122.233</td>\n",
              "      <td>2720</td>\n",
              "      <td>8062</td>\n",
              "    </tr>\n",
              "    <tr>\n",
              "      <th>3</th>\n",
              "      <td>2487200875</td>\n",
              "      <td>20141209T000000</td>\n",
              "      <td>604000.0</td>\n",
              "      <td>4</td>\n",
              "      <td>3.00</td>\n",
              "      <td>1960</td>\n",
              "      <td>5000</td>\n",
              "      <td>1.0</td>\n",
              "      <td>0</td>\n",
              "      <td>0</td>\n",
              "      <td>...</td>\n",
              "      <td>7</td>\n",
              "      <td>1050.0</td>\n",
              "      <td>910</td>\n",
              "      <td>1965</td>\n",
              "      <td>0</td>\n",
              "      <td>98136</td>\n",
              "      <td>47.5208</td>\n",
              "      <td>-122.393</td>\n",
              "      <td>1360</td>\n",
              "      <td>5000</td>\n",
              "    </tr>\n",
              "    <tr>\n",
              "      <th>4</th>\n",
              "      <td>1954400510</td>\n",
              "      <td>20150218T000000</td>\n",
              "      <td>510000.0</td>\n",
              "      <td>3</td>\n",
              "      <td>2.00</td>\n",
              "      <td>1680</td>\n",
              "      <td>8080</td>\n",
              "      <td>1.0</td>\n",
              "      <td>0</td>\n",
              "      <td>0</td>\n",
              "      <td>...</td>\n",
              "      <td>8</td>\n",
              "      <td>1680.0</td>\n",
              "      <td>0</td>\n",
              "      <td>1987</td>\n",
              "      <td>0</td>\n",
              "      <td>98074</td>\n",
              "      <td>47.6168</td>\n",
              "      <td>-122.045</td>\n",
              "      <td>1800</td>\n",
              "      <td>7503</td>\n",
              "    </tr>\n",
              "    <tr>\n",
              "      <th>...</th>\n",
              "      <td>...</td>\n",
              "      <td>...</td>\n",
              "      <td>...</td>\n",
              "      <td>...</td>\n",
              "      <td>...</td>\n",
              "      <td>...</td>\n",
              "      <td>...</td>\n",
              "      <td>...</td>\n",
              "      <td>...</td>\n",
              "      <td>...</td>\n",
              "      <td>...</td>\n",
              "      <td>...</td>\n",
              "      <td>...</td>\n",
              "      <td>...</td>\n",
              "      <td>...</td>\n",
              "      <td>...</td>\n",
              "      <td>...</td>\n",
              "      <td>...</td>\n",
              "      <td>...</td>\n",
              "      <td>...</td>\n",
              "      <td>...</td>\n",
              "    </tr>\n",
              "    <tr>\n",
              "      <th>21608</th>\n",
              "      <td>263000018</td>\n",
              "      <td>20140521T000000</td>\n",
              "      <td>360000.0</td>\n",
              "      <td>3</td>\n",
              "      <td>2.50</td>\n",
              "      <td>1530</td>\n",
              "      <td>1131</td>\n",
              "      <td>3.0</td>\n",
              "      <td>0</td>\n",
              "      <td>0</td>\n",
              "      <td>...</td>\n",
              "      <td>8</td>\n",
              "      <td>1530.0</td>\n",
              "      <td>0</td>\n",
              "      <td>2009</td>\n",
              "      <td>0</td>\n",
              "      <td>98103</td>\n",
              "      <td>47.6993</td>\n",
              "      <td>-122.346</td>\n",
              "      <td>1530</td>\n",
              "      <td>1509</td>\n",
              "    </tr>\n",
              "    <tr>\n",
              "      <th>21609</th>\n",
              "      <td>6600060120</td>\n",
              "      <td>20150223T000000</td>\n",
              "      <td>400000.0</td>\n",
              "      <td>4</td>\n",
              "      <td>2.50</td>\n",
              "      <td>2310</td>\n",
              "      <td>5813</td>\n",
              "      <td>2.0</td>\n",
              "      <td>0</td>\n",
              "      <td>0</td>\n",
              "      <td>...</td>\n",
              "      <td>8</td>\n",
              "      <td>2310.0</td>\n",
              "      <td>0</td>\n",
              "      <td>2014</td>\n",
              "      <td>0</td>\n",
              "      <td>98146</td>\n",
              "      <td>47.5107</td>\n",
              "      <td>-122.362</td>\n",
              "      <td>1830</td>\n",
              "      <td>7200</td>\n",
              "    </tr>\n",
              "    <tr>\n",
              "      <th>21610</th>\n",
              "      <td>1523300141</td>\n",
              "      <td>20140623T000000</td>\n",
              "      <td>402101.0</td>\n",
              "      <td>2</td>\n",
              "      <td>0.75</td>\n",
              "      <td>1020</td>\n",
              "      <td>1350</td>\n",
              "      <td>2.0</td>\n",
              "      <td>0</td>\n",
              "      <td>0</td>\n",
              "      <td>...</td>\n",
              "      <td>7</td>\n",
              "      <td>1020.0</td>\n",
              "      <td>0</td>\n",
              "      <td>2009</td>\n",
              "      <td>0</td>\n",
              "      <td>98144</td>\n",
              "      <td>47.5944</td>\n",
              "      <td>-122.299</td>\n",
              "      <td>1020</td>\n",
              "      <td>2007</td>\n",
              "    </tr>\n",
              "    <tr>\n",
              "      <th>21611</th>\n",
              "      <td>291310100</td>\n",
              "      <td>20150116T000000</td>\n",
              "      <td>400000.0</td>\n",
              "      <td>3</td>\n",
              "      <td>2.50</td>\n",
              "      <td>1600</td>\n",
              "      <td>2388</td>\n",
              "      <td>2.0</td>\n",
              "      <td>0</td>\n",
              "      <td>0</td>\n",
              "      <td>...</td>\n",
              "      <td>8</td>\n",
              "      <td>1600.0</td>\n",
              "      <td>0</td>\n",
              "      <td>2004</td>\n",
              "      <td>0</td>\n",
              "      <td>98027</td>\n",
              "      <td>47.5345</td>\n",
              "      <td>-122.069</td>\n",
              "      <td>1410</td>\n",
              "      <td>1287</td>\n",
              "    </tr>\n",
              "    <tr>\n",
              "      <th>21612</th>\n",
              "      <td>1523300157</td>\n",
              "      <td>20141015T000000</td>\n",
              "      <td>325000.0</td>\n",
              "      <td>2</td>\n",
              "      <td>0.75</td>\n",
              "      <td>1020</td>\n",
              "      <td>1076</td>\n",
              "      <td>2.0</td>\n",
              "      <td>0</td>\n",
              "      <td>0</td>\n",
              "      <td>...</td>\n",
              "      <td>7</td>\n",
              "      <td>1020.0</td>\n",
              "      <td>0</td>\n",
              "      <td>2008</td>\n",
              "      <td>0</td>\n",
              "      <td>98144</td>\n",
              "      <td>47.5941</td>\n",
              "      <td>-122.299</td>\n",
              "      <td>1020</td>\n",
              "      <td>1357</td>\n",
              "    </tr>\n",
              "  </tbody>\n",
              "</table>\n",
              "<p>21613 rows × 21 columns</p>\n",
              "</div>\n",
              "      <button class=\"colab-df-convert\" onclick=\"convertToInteractive('df-03dc41ec-a2ef-450d-a01b-d4079f076b7a')\"\n",
              "              title=\"Convert this dataframe to an interactive table.\"\n",
              "              style=\"display:none;\">\n",
              "        \n",
              "  <svg xmlns=\"http://www.w3.org/2000/svg\" height=\"24px\"viewBox=\"0 0 24 24\"\n",
              "       width=\"24px\">\n",
              "    <path d=\"M0 0h24v24H0V0z\" fill=\"none\"/>\n",
              "    <path d=\"M18.56 5.44l.94 2.06.94-2.06 2.06-.94-2.06-.94-.94-2.06-.94 2.06-2.06.94zm-11 1L8.5 8.5l.94-2.06 2.06-.94-2.06-.94L8.5 2.5l-.94 2.06-2.06.94zm10 10l.94 2.06.94-2.06 2.06-.94-2.06-.94-.94-2.06-.94 2.06-2.06.94z\"/><path d=\"M17.41 7.96l-1.37-1.37c-.4-.4-.92-.59-1.43-.59-.52 0-1.04.2-1.43.59L10.3 9.45l-7.72 7.72c-.78.78-.78 2.05 0 2.83L4 21.41c.39.39.9.59 1.41.59.51 0 1.02-.2 1.41-.59l7.78-7.78 2.81-2.81c.8-.78.8-2.07 0-2.86zM5.41 20L4 18.59l7.72-7.72 1.47 1.35L5.41 20z\"/>\n",
              "  </svg>\n",
              "      </button>\n",
              "      \n",
              "  <style>\n",
              "    .colab-df-container {\n",
              "      display:flex;\n",
              "      flex-wrap:wrap;\n",
              "      gap: 12px;\n",
              "    }\n",
              "\n",
              "    .colab-df-convert {\n",
              "      background-color: #E8F0FE;\n",
              "      border: none;\n",
              "      border-radius: 50%;\n",
              "      cursor: pointer;\n",
              "      display: none;\n",
              "      fill: #1967D2;\n",
              "      height: 32px;\n",
              "      padding: 0 0 0 0;\n",
              "      width: 32px;\n",
              "    }\n",
              "\n",
              "    .colab-df-convert:hover {\n",
              "      background-color: #E2EBFA;\n",
              "      box-shadow: 0px 1px 2px rgba(60, 64, 67, 0.3), 0px 1px 3px 1px rgba(60, 64, 67, 0.15);\n",
              "      fill: #174EA6;\n",
              "    }\n",
              "\n",
              "    [theme=dark] .colab-df-convert {\n",
              "      background-color: #3B4455;\n",
              "      fill: #D2E3FC;\n",
              "    }\n",
              "\n",
              "    [theme=dark] .colab-df-convert:hover {\n",
              "      background-color: #434B5C;\n",
              "      box-shadow: 0px 1px 3px 1px rgba(0, 0, 0, 0.15);\n",
              "      filter: drop-shadow(0px 1px 2px rgba(0, 0, 0, 0.3));\n",
              "      fill: #FFFFFF;\n",
              "    }\n",
              "  </style>\n",
              "\n",
              "      <script>\n",
              "        const buttonEl =\n",
              "          document.querySelector('#df-03dc41ec-a2ef-450d-a01b-d4079f076b7a button.colab-df-convert');\n",
              "        buttonEl.style.display =\n",
              "          google.colab.kernel.accessAllowed ? 'block' : 'none';\n",
              "\n",
              "        async function convertToInteractive(key) {\n",
              "          const element = document.querySelector('#df-03dc41ec-a2ef-450d-a01b-d4079f076b7a');\n",
              "          const dataTable =\n",
              "            await google.colab.kernel.invokeFunction('convertToInteractive',\n",
              "                                                     [key], {});\n",
              "          if (!dataTable) return;\n",
              "\n",
              "          const docLinkHtml = 'Like what you see? Visit the ' +\n",
              "            '<a target=\"_blank\" href=https://colab.research.google.com/notebooks/data_table.ipynb>data table notebook</a>'\n",
              "            + ' to learn more about interactive tables.';\n",
              "          element.innerHTML = '';\n",
              "          dataTable['output_type'] = 'display_data';\n",
              "          await google.colab.output.renderOutput(dataTable, element);\n",
              "          const docLink = document.createElement('div');\n",
              "          docLink.innerHTML = docLinkHtml;\n",
              "          element.appendChild(docLink);\n",
              "        }\n",
              "      </script>\n",
              "    </div>\n",
              "  </div>\n",
              "  "
            ]
          },
          "metadata": {},
          "execution_count": 26
        }
      ]
    },
    {
      "cell_type": "code",
      "source": [
        "list(data.keys())  "
      ],
      "metadata": {
        "colab": {
          "base_uri": "https://localhost:8080/"
        },
        "id": "kXftNj1D4CpK",
        "outputId": "8ed654cc-0846-495b-d663-6a5ef4188c7b"
      },
      "execution_count": null,
      "outputs": [
        {
          "output_type": "execute_result",
          "data": {
            "text/plain": [
              "['id',\n",
              " 'date',\n",
              " 'price',\n",
              " 'bedrooms',\n",
              " 'bathrooms',\n",
              " 'sqft_living',\n",
              " 'sqft_lot',\n",
              " 'floors',\n",
              " 'waterfront',\n",
              " 'view',\n",
              " 'condition',\n",
              " 'grade',\n",
              " 'sqft_above',\n",
              " 'sqft_basement',\n",
              " 'yr_built',\n",
              " 'yr_renovated',\n",
              " 'zipcode',\n",
              " 'lat',\n",
              " 'long',\n",
              " 'sqft_living15',\n",
              " 'sqft_lot15']"
            ]
          },
          "metadata": {},
          "execution_count": 27
        }
      ]
    },
    {
      "cell_type": "code",
      "source": [
        "print(data.dtypes)   #tipe data"
      ],
      "metadata": {
        "colab": {
          "base_uri": "https://localhost:8080/"
        },
        "id": "7lVh5d4aGS3E",
        "outputId": "6b0d54e2-49c2-4d0b-8552-d88d7261c6ff"
      },
      "execution_count": null,
      "outputs": [
        {
          "output_type": "stream",
          "name": "stdout",
          "text": [
            "id                 int64\n",
            "date              object\n",
            "price            float64\n",
            "bedrooms           int64\n",
            "bathrooms        float64\n",
            "sqft_living        int64\n",
            "sqft_lot           int64\n",
            "floors           float64\n",
            "waterfront         int64\n",
            "view               int64\n",
            "condition          int64\n",
            "grade              int64\n",
            "sqft_above       float64\n",
            "sqft_basement      int64\n",
            "yr_built           int64\n",
            "yr_renovated       int64\n",
            "zipcode            int64\n",
            "lat              float64\n",
            "long             float64\n",
            "sqft_living15      int64\n",
            "sqft_lot15         int64\n",
            "dtype: object\n"
          ]
        }
      ]
    },
    {
      "cell_type": "code",
      "source": [
        "# Dropping data\n",
        "data1 = data.drop(['id', 'date', 'waterfront', 'view', 'condition', 'yr_built', 'yr_renovated', 'zipcode', 'long' ], axis=1)\n",
        "data1"
      ],
      "metadata": {
        "colab": {
          "base_uri": "https://localhost:8080/",
          "height": 423
        },
        "id": "jPLeK7mm38JK",
        "outputId": "1e3586da-b945-4dd2-b0a0-7dfedb82365d"
      },
      "execution_count": null,
      "outputs": [
        {
          "output_type": "execute_result",
          "data": {
            "text/plain": [
              "          price  bedrooms  bathrooms  sqft_living  sqft_lot  floors  grade  \\\n",
              "0      221900.0         3       1.00         1180      5650     1.0      7   \n",
              "1      538000.0         3       2.25         2570      7242     2.0      7   \n",
              "2      180000.0         2       1.00          770     10000     1.0      6   \n",
              "3      604000.0         4       3.00         1960      5000     1.0      7   \n",
              "4      510000.0         3       2.00         1680      8080     1.0      8   \n",
              "...         ...       ...        ...          ...       ...     ...    ...   \n",
              "21608  360000.0         3       2.50         1530      1131     3.0      8   \n",
              "21609  400000.0         4       2.50         2310      5813     2.0      8   \n",
              "21610  402101.0         2       0.75         1020      1350     2.0      7   \n",
              "21611  400000.0         3       2.50         1600      2388     2.0      8   \n",
              "21612  325000.0         2       0.75         1020      1076     2.0      7   \n",
              "\n",
              "       sqft_above  sqft_basement      lat  sqft_living15  sqft_lot15  \n",
              "0          1180.0              0  47.5112           1340        5650  \n",
              "1          2170.0            400  47.7210           1690        7639  \n",
              "2           770.0              0  47.7379           2720        8062  \n",
              "3          1050.0            910  47.5208           1360        5000  \n",
              "4          1680.0              0  47.6168           1800        7503  \n",
              "...           ...            ...      ...            ...         ...  \n",
              "21608      1530.0              0  47.6993           1530        1509  \n",
              "21609      2310.0              0  47.5107           1830        7200  \n",
              "21610      1020.0              0  47.5944           1020        2007  \n",
              "21611      1600.0              0  47.5345           1410        1287  \n",
              "21612      1020.0              0  47.5941           1020        1357  \n",
              "\n",
              "[21613 rows x 12 columns]"
            ],
            "text/html": [
              "\n",
              "  <div id=\"df-45744057-2190-49d7-a56e-e6e634beb18c\">\n",
              "    <div class=\"colab-df-container\">\n",
              "      <div>\n",
              "<style scoped>\n",
              "    .dataframe tbody tr th:only-of-type {\n",
              "        vertical-align: middle;\n",
              "    }\n",
              "\n",
              "    .dataframe tbody tr th {\n",
              "        vertical-align: top;\n",
              "    }\n",
              "\n",
              "    .dataframe thead th {\n",
              "        text-align: right;\n",
              "    }\n",
              "</style>\n",
              "<table border=\"1\" class=\"dataframe\">\n",
              "  <thead>\n",
              "    <tr style=\"text-align: right;\">\n",
              "      <th></th>\n",
              "      <th>price</th>\n",
              "      <th>bedrooms</th>\n",
              "      <th>bathrooms</th>\n",
              "      <th>sqft_living</th>\n",
              "      <th>sqft_lot</th>\n",
              "      <th>floors</th>\n",
              "      <th>grade</th>\n",
              "      <th>sqft_above</th>\n",
              "      <th>sqft_basement</th>\n",
              "      <th>lat</th>\n",
              "      <th>sqft_living15</th>\n",
              "      <th>sqft_lot15</th>\n",
              "    </tr>\n",
              "  </thead>\n",
              "  <tbody>\n",
              "    <tr>\n",
              "      <th>0</th>\n",
              "      <td>221900.0</td>\n",
              "      <td>3</td>\n",
              "      <td>1.00</td>\n",
              "      <td>1180</td>\n",
              "      <td>5650</td>\n",
              "      <td>1.0</td>\n",
              "      <td>7</td>\n",
              "      <td>1180.0</td>\n",
              "      <td>0</td>\n",
              "      <td>47.5112</td>\n",
              "      <td>1340</td>\n",
              "      <td>5650</td>\n",
              "    </tr>\n",
              "    <tr>\n",
              "      <th>1</th>\n",
              "      <td>538000.0</td>\n",
              "      <td>3</td>\n",
              "      <td>2.25</td>\n",
              "      <td>2570</td>\n",
              "      <td>7242</td>\n",
              "      <td>2.0</td>\n",
              "      <td>7</td>\n",
              "      <td>2170.0</td>\n",
              "      <td>400</td>\n",
              "      <td>47.7210</td>\n",
              "      <td>1690</td>\n",
              "      <td>7639</td>\n",
              "    </tr>\n",
              "    <tr>\n",
              "      <th>2</th>\n",
              "      <td>180000.0</td>\n",
              "      <td>2</td>\n",
              "      <td>1.00</td>\n",
              "      <td>770</td>\n",
              "      <td>10000</td>\n",
              "      <td>1.0</td>\n",
              "      <td>6</td>\n",
              "      <td>770.0</td>\n",
              "      <td>0</td>\n",
              "      <td>47.7379</td>\n",
              "      <td>2720</td>\n",
              "      <td>8062</td>\n",
              "    </tr>\n",
              "    <tr>\n",
              "      <th>3</th>\n",
              "      <td>604000.0</td>\n",
              "      <td>4</td>\n",
              "      <td>3.00</td>\n",
              "      <td>1960</td>\n",
              "      <td>5000</td>\n",
              "      <td>1.0</td>\n",
              "      <td>7</td>\n",
              "      <td>1050.0</td>\n",
              "      <td>910</td>\n",
              "      <td>47.5208</td>\n",
              "      <td>1360</td>\n",
              "      <td>5000</td>\n",
              "    </tr>\n",
              "    <tr>\n",
              "      <th>4</th>\n",
              "      <td>510000.0</td>\n",
              "      <td>3</td>\n",
              "      <td>2.00</td>\n",
              "      <td>1680</td>\n",
              "      <td>8080</td>\n",
              "      <td>1.0</td>\n",
              "      <td>8</td>\n",
              "      <td>1680.0</td>\n",
              "      <td>0</td>\n",
              "      <td>47.6168</td>\n",
              "      <td>1800</td>\n",
              "      <td>7503</td>\n",
              "    </tr>\n",
              "    <tr>\n",
              "      <th>...</th>\n",
              "      <td>...</td>\n",
              "      <td>...</td>\n",
              "      <td>...</td>\n",
              "      <td>...</td>\n",
              "      <td>...</td>\n",
              "      <td>...</td>\n",
              "      <td>...</td>\n",
              "      <td>...</td>\n",
              "      <td>...</td>\n",
              "      <td>...</td>\n",
              "      <td>...</td>\n",
              "      <td>...</td>\n",
              "    </tr>\n",
              "    <tr>\n",
              "      <th>21608</th>\n",
              "      <td>360000.0</td>\n",
              "      <td>3</td>\n",
              "      <td>2.50</td>\n",
              "      <td>1530</td>\n",
              "      <td>1131</td>\n",
              "      <td>3.0</td>\n",
              "      <td>8</td>\n",
              "      <td>1530.0</td>\n",
              "      <td>0</td>\n",
              "      <td>47.6993</td>\n",
              "      <td>1530</td>\n",
              "      <td>1509</td>\n",
              "    </tr>\n",
              "    <tr>\n",
              "      <th>21609</th>\n",
              "      <td>400000.0</td>\n",
              "      <td>4</td>\n",
              "      <td>2.50</td>\n",
              "      <td>2310</td>\n",
              "      <td>5813</td>\n",
              "      <td>2.0</td>\n",
              "      <td>8</td>\n",
              "      <td>2310.0</td>\n",
              "      <td>0</td>\n",
              "      <td>47.5107</td>\n",
              "      <td>1830</td>\n",
              "      <td>7200</td>\n",
              "    </tr>\n",
              "    <tr>\n",
              "      <th>21610</th>\n",
              "      <td>402101.0</td>\n",
              "      <td>2</td>\n",
              "      <td>0.75</td>\n",
              "      <td>1020</td>\n",
              "      <td>1350</td>\n",
              "      <td>2.0</td>\n",
              "      <td>7</td>\n",
              "      <td>1020.0</td>\n",
              "      <td>0</td>\n",
              "      <td>47.5944</td>\n",
              "      <td>1020</td>\n",
              "      <td>2007</td>\n",
              "    </tr>\n",
              "    <tr>\n",
              "      <th>21611</th>\n",
              "      <td>400000.0</td>\n",
              "      <td>3</td>\n",
              "      <td>2.50</td>\n",
              "      <td>1600</td>\n",
              "      <td>2388</td>\n",
              "      <td>2.0</td>\n",
              "      <td>8</td>\n",
              "      <td>1600.0</td>\n",
              "      <td>0</td>\n",
              "      <td>47.5345</td>\n",
              "      <td>1410</td>\n",
              "      <td>1287</td>\n",
              "    </tr>\n",
              "    <tr>\n",
              "      <th>21612</th>\n",
              "      <td>325000.0</td>\n",
              "      <td>2</td>\n",
              "      <td>0.75</td>\n",
              "      <td>1020</td>\n",
              "      <td>1076</td>\n",
              "      <td>2.0</td>\n",
              "      <td>7</td>\n",
              "      <td>1020.0</td>\n",
              "      <td>0</td>\n",
              "      <td>47.5941</td>\n",
              "      <td>1020</td>\n",
              "      <td>1357</td>\n",
              "    </tr>\n",
              "  </tbody>\n",
              "</table>\n",
              "<p>21613 rows × 12 columns</p>\n",
              "</div>\n",
              "      <button class=\"colab-df-convert\" onclick=\"convertToInteractive('df-45744057-2190-49d7-a56e-e6e634beb18c')\"\n",
              "              title=\"Convert this dataframe to an interactive table.\"\n",
              "              style=\"display:none;\">\n",
              "        \n",
              "  <svg xmlns=\"http://www.w3.org/2000/svg\" height=\"24px\"viewBox=\"0 0 24 24\"\n",
              "       width=\"24px\">\n",
              "    <path d=\"M0 0h24v24H0V0z\" fill=\"none\"/>\n",
              "    <path d=\"M18.56 5.44l.94 2.06.94-2.06 2.06-.94-2.06-.94-.94-2.06-.94 2.06-2.06.94zm-11 1L8.5 8.5l.94-2.06 2.06-.94-2.06-.94L8.5 2.5l-.94 2.06-2.06.94zm10 10l.94 2.06.94-2.06 2.06-.94-2.06-.94-.94-2.06-.94 2.06-2.06.94z\"/><path d=\"M17.41 7.96l-1.37-1.37c-.4-.4-.92-.59-1.43-.59-.52 0-1.04.2-1.43.59L10.3 9.45l-7.72 7.72c-.78.78-.78 2.05 0 2.83L4 21.41c.39.39.9.59 1.41.59.51 0 1.02-.2 1.41-.59l7.78-7.78 2.81-2.81c.8-.78.8-2.07 0-2.86zM5.41 20L4 18.59l7.72-7.72 1.47 1.35L5.41 20z\"/>\n",
              "  </svg>\n",
              "      </button>\n",
              "      \n",
              "  <style>\n",
              "    .colab-df-container {\n",
              "      display:flex;\n",
              "      flex-wrap:wrap;\n",
              "      gap: 12px;\n",
              "    }\n",
              "\n",
              "    .colab-df-convert {\n",
              "      background-color: #E8F0FE;\n",
              "      border: none;\n",
              "      border-radius: 50%;\n",
              "      cursor: pointer;\n",
              "      display: none;\n",
              "      fill: #1967D2;\n",
              "      height: 32px;\n",
              "      padding: 0 0 0 0;\n",
              "      width: 32px;\n",
              "    }\n",
              "\n",
              "    .colab-df-convert:hover {\n",
              "      background-color: #E2EBFA;\n",
              "      box-shadow: 0px 1px 2px rgba(60, 64, 67, 0.3), 0px 1px 3px 1px rgba(60, 64, 67, 0.15);\n",
              "      fill: #174EA6;\n",
              "    }\n",
              "\n",
              "    [theme=dark] .colab-df-convert {\n",
              "      background-color: #3B4455;\n",
              "      fill: #D2E3FC;\n",
              "    }\n",
              "\n",
              "    [theme=dark] .colab-df-convert:hover {\n",
              "      background-color: #434B5C;\n",
              "      box-shadow: 0px 1px 3px 1px rgba(0, 0, 0, 0.15);\n",
              "      filter: drop-shadow(0px 1px 2px rgba(0, 0, 0, 0.3));\n",
              "      fill: #FFFFFF;\n",
              "    }\n",
              "  </style>\n",
              "\n",
              "      <script>\n",
              "        const buttonEl =\n",
              "          document.querySelector('#df-45744057-2190-49d7-a56e-e6e634beb18c button.colab-df-convert');\n",
              "        buttonEl.style.display =\n",
              "          google.colab.kernel.accessAllowed ? 'block' : 'none';\n",
              "\n",
              "        async function convertToInteractive(key) {\n",
              "          const element = document.querySelector('#df-45744057-2190-49d7-a56e-e6e634beb18c');\n",
              "          const dataTable =\n",
              "            await google.colab.kernel.invokeFunction('convertToInteractive',\n",
              "                                                     [key], {});\n",
              "          if (!dataTable) return;\n",
              "\n",
              "          const docLinkHtml = 'Like what you see? Visit the ' +\n",
              "            '<a target=\"_blank\" href=https://colab.research.google.com/notebooks/data_table.ipynb>data table notebook</a>'\n",
              "            + ' to learn more about interactive tables.';\n",
              "          element.innerHTML = '';\n",
              "          dataTable['output_type'] = 'display_data';\n",
              "          await google.colab.output.renderOutput(dataTable, element);\n",
              "          const docLink = document.createElement('div');\n",
              "          docLink.innerHTML = docLinkHtml;\n",
              "          element.appendChild(docLink);\n",
              "        }\n",
              "      </script>\n",
              "    </div>\n",
              "  </div>\n",
              "  "
            ]
          },
          "metadata": {},
          "execution_count": 29
        }
      ]
    },
    {
      "cell_type": "markdown",
      "source": [
        "Keterangan setiap kolom:\n",
        "\n",
        "\n",
        "1.   bedrooms = Jumlah kamar tidur\n",
        "2.   bathrooms = Jumlah kamar mandi\n",
        "3.   sqft_living = Luas rumah dalam satuan sqft\n",
        "4.   grade = Grading system dari pemerintah King County US\n",
        "5.   yr_built = Tahun dimana rumah dibangun\n",
        "6.   price = Harga dari rumah (US$), dll"
      ],
      "metadata": {
        "id": "A5IUwvl1G2Ud"
      }
    },
    {
      "cell_type": "code",
      "source": [
        "data1.info()   # info() : Nomor index beserta tipe datanya."
      ],
      "metadata": {
        "colab": {
          "base_uri": "https://localhost:8080/"
        },
        "id": "0Ca4vSz_H-vp",
        "outputId": "8b746a38-5551-4870-8111-6c8d59f8ba85"
      },
      "execution_count": null,
      "outputs": [
        {
          "output_type": "stream",
          "name": "stdout",
          "text": [
            "<class 'pandas.core.frame.DataFrame'>\n",
            "RangeIndex: 21613 entries, 0 to 21612\n",
            "Data columns (total 12 columns):\n",
            " #   Column         Non-Null Count  Dtype  \n",
            "---  ------         --------------  -----  \n",
            " 0   price          21613 non-null  float64\n",
            " 1   bedrooms       21613 non-null  int64  \n",
            " 2   bathrooms      21613 non-null  float64\n",
            " 3   sqft_living    21613 non-null  int64  \n",
            " 4   sqft_lot       21613 non-null  int64  \n",
            " 5   floors         21613 non-null  float64\n",
            " 6   grade          21613 non-null  int64  \n",
            " 7   sqft_above     21611 non-null  float64\n",
            " 8   sqft_basement  21613 non-null  int64  \n",
            " 9   lat            21613 non-null  float64\n",
            " 10  sqft_living15  21613 non-null  int64  \n",
            " 11  sqft_lot15     21613 non-null  int64  \n",
            "dtypes: float64(5), int64(7)\n",
            "memory usage: 2.0 MB\n"
          ]
        }
      ]
    },
    {
      "cell_type": "code",
      "source": [
        "data1.shape  #baris,kolom "
      ],
      "metadata": {
        "colab": {
          "base_uri": "https://localhost:8080/"
        },
        "id": "k_N1MUWsG_vk",
        "outputId": "6961d7e2-f00c-492b-f778-9665a4de1879"
      },
      "execution_count": null,
      "outputs": [
        {
          "output_type": "execute_result",
          "data": {
            "text/plain": [
              "(21613, 12)"
            ]
          },
          "metadata": {},
          "execution_count": 31
        }
      ]
    },
    {
      "cell_type": "markdown",
      "source": [
        "**Visualisasi**"
      ],
      "metadata": {
        "id": "WBeKZHHsHQeF"
      }
    },
    {
      "cell_type": "code",
      "source": [
        "plt.scatter(data['bathrooms'], data['price'])\n",
        "plt.title('Grade berdasarkan harga')\n",
        "plt.xlabel('Bathrooms')\n",
        "plt.ylabel('Price')\n",
        "plt.show()"
      ],
      "metadata": {
        "colab": {
          "base_uri": "https://localhost:8080/",
          "height": 295
        },
        "id": "NpABTygfIb43",
        "outputId": "288e46a4-57ed-446e-f19f-2ac4fdd92ed3"
      },
      "execution_count": null,
      "outputs": [
        {
          "output_type": "display_data",
          "data": {
            "text/plain": [
              "<Figure size 432x288 with 1 Axes>"
            ],
            "image/png": "[encoded data removed]"
          },
          "metadata": {
            "needs_background": "light"
          }
        }
      ]
    },
    {
      "cell_type": "code",
      "source": [
        "# Mengetahui nilai korelasi dari independent variable dan dependent variable\n",
        "data1.corr().style.background_gradient().set_precision(2)"
      ],
      "metadata": {
        "colab": {
          "base_uri": "https://localhost:8080/",
          "height": 426
        },
        "id": "4c1TxKp3HaiE",
        "outputId": "ac1bc9fb-26fa-4c50-828d-bcaa4cf5054c"
      },
      "execution_count": null,
      "outputs": [
        {
          "output_type": "execute_result",
          "data": {
            "text/plain": [
              "<pandas.io.formats.style.Styler at 0x7f1261358f90>"
            ],
            "text/html": [
              "<style type=\"text/css\">\n",
              "#T_320b7_row0_col0, #T_320b7_row1_col1, #T_320b7_row2_col2, #T_320b7_row3_col3, #T_320b7_row4_col4, #T_320b7_row5_col5, #T_320b7_row6_col6, #T_320b7_row7_col7, #T_320b7_row8_col8, #T_320b7_row9_col9, #T_320b7_row10_col10, #T_320b7_row11_col11 {\n",
              "  background-color: #023858;\n",
              "  color: #f1f1f1;\n",
              "}\n",
              "#T_320b7_row0_col1 {\n",
              "  background-color: #bbc7e0;\n",
              "  color: #000000;\n",
              "}\n",
              "#T_320b7_row0_col2 {\n",
              "  background-color: #6da6cd;\n",
              "  color: #f1f1f1;\n",
              "}\n",
              "#T_320b7_row0_col3 {\n",
              "  background-color: #1e80b8;\n",
              "  color: #f1f1f1;\n",
              "}\n",
              "#T_320b7_row0_col4 {\n",
              "  background-color: #e4e1ef;\n",
              "  color: #000000;\n",
              "}\n",
              "#T_320b7_row0_col5, #T_320b7_row8_col3 {\n",
              "  background-color: #9ab8d8;\n",
              "  color: #000000;\n",
              "}\n",
              "#T_320b7_row0_col6, #T_320b7_row2_col6 {\n",
              "  background-color: #3790c0;\n",
              "  color: #f1f1f1;\n",
              "}\n",
              "#T_320b7_row0_col7 {\n",
              "  background-color: #358fc0;\n",
              "  color: #f1f1f1;\n",
              "}\n",
              "#T_320b7_row0_col8 {\n",
              "  background-color: #84b0d3;\n",
              "  color: #f1f1f1;\n",
              "}\n",
              "#T_320b7_row0_col9, #T_320b7_row1_col10, #T_320b7_row6_col1 {\n",
              "  background-color: #abbfdc;\n",
              "  color: #000000;\n",
              "}\n",
              "#T_320b7_row0_col10, #T_320b7_row6_col5 {\n",
              "  background-color: #549cc7;\n",
              "  color: #f1f1f1;\n",
              "}\n",
              "#T_320b7_row0_col11, #T_320b7_row7_col8 {\n",
              "  background-color: #e6e2ef;\n",
              "  color: #000000;\n",
              "}\n",
              "#T_320b7_row1_col0, #T_320b7_row3_col11, #T_320b7_row7_col4, #T_320b7_row10_col11 {\n",
              "  background-color: #d1d2e6;\n",
              "  color: #000000;\n",
              "}\n",
              "#T_320b7_row1_col2, #T_320b7_row1_col7 {\n",
              "  background-color: #73a9cf;\n",
              "  color: #f1f1f1;\n",
              "}\n",
              "#T_320b7_row1_col3 {\n",
              "  background-color: #5a9ec9;\n",
              "  color: #f1f1f1;\n",
              "}\n",
              "#T_320b7_row1_col4, #T_320b7_row1_col11 {\n",
              "  background-color: #efe9f3;\n",
              "  color: #000000;\n",
              "}\n",
              "#T_320b7_row1_col5 {\n",
              "  background-color: #b3c3de;\n",
              "  color: #000000;\n",
              "}\n",
              "#T_320b7_row1_col6 {\n",
              "  background-color: #c8cde4;\n",
              "  color: #000000;\n",
              "}\n",
              "#T_320b7_row1_col8 {\n",
              "  background-color: #8cb3d5;\n",
              "  color: #000000;\n",
              "}\n",
              "#T_320b7_row1_col9, #T_320b7_row5_col4 {\n",
              "  background-color: #f4eef6;\n",
              "  color: #000000;\n",
              "}\n",
              "#T_320b7_row2_col0, #T_320b7_row3_col5, #T_320b7_row7_col1 {\n",
              "  background-color: #7bacd1;\n",
              "  color: #f1f1f1;\n",
              "}\n",
              "#T_320b7_row2_col1 {\n",
              "  background-color: #69a5cc;\n",
              "  color: #f1f1f1;\n",
              "}\n",
              "#T_320b7_row2_col3, #T_320b7_row4_col11, #T_320b7_row11_col4 {\n",
              "  background-color: #0872b1;\n",
              "  color: #f1f1f1;\n",
              "}\n",
              "#T_320b7_row2_col4, #T_320b7_row2_col11, #T_320b7_row8_col10 {\n",
              "  background-color: #e5e1ef;\n",
              "  color: #000000;\n",
              "}\n",
              "#T_320b7_row2_col5 {\n",
              "  background-color: #4295c3;\n",
              "  color: #f1f1f1;\n",
              "}\n",
              "#T_320b7_row2_col7 {\n",
              "  background-color: #187cb6;\n",
              "  color: #f1f1f1;\n",
              "}\n",
              "#T_320b7_row2_col8, #T_320b7_row10_col5 {\n",
              "  background-color: #93b5d6;\n",
              "  color: #000000;\n",
              "}\n",
              "#T_320b7_row2_col9, #T_320b7_row4_col10 {\n",
              "  background-color: #f0eaf4;\n",
              "  color: #000000;\n",
              "}\n",
              "#T_320b7_row2_col10, #T_320b7_row3_col8 {\n",
              "  background-color: #5ea0ca;\n",
              "  color: #f1f1f1;\n",
              "}\n",
              "#T_320b7_row3_col0 {\n",
              "  background-color: #2383ba;\n",
              "  color: #f1f1f1;\n",
              "}\n",
              "#T_320b7_row3_col1 {\n",
              "  background-color: #4c99c5;\n",
              "  color: #f1f1f1;\n",
              "}\n",
              "#T_320b7_row3_col2, #T_320b7_row6_col3 {\n",
              "  background-color: #0570b0;\n",
              "  color: #f1f1f1;\n",
              "}\n",
              "#T_320b7_row3_col4, #T_320b7_row9_col5 {\n",
              "  background-color: #d3d4e7;\n",
              "  color: #000000;\n",
              "}\n",
              "#T_320b7_row3_col6 {\n",
              "  background-color: #0c74b2;\n",
              "  color: #f1f1f1;\n",
              "}\n",
              "#T_320b7_row3_col7 {\n",
              "  background-color: #04588a;\n",
              "  color: #f1f1f1;\n",
              "}\n",
              "#T_320b7_row3_col9, #T_320b7_row4_col3, #T_320b7_row5_col9 {\n",
              "  background-color: #ece7f2;\n",
              "  color: #000000;\n",
              "}\n",
              "#T_320b7_row3_col10, #T_320b7_row10_col3, #T_320b7_row10_col7 {\n",
              "  background-color: #0771b1;\n",
              "  color: #f1f1f1;\n",
              "}\n",
              "#T_320b7_row4_col0 {\n",
              "  background-color: #fef6fa;\n",
              "  color: #000000;\n",
              "}\n",
              "#T_320b7_row4_col1 {\n",
              "  background-color: #f9f2f8;\n",
              "  color: #000000;\n",
              "}\n",
              "#T_320b7_row4_col2, #T_320b7_row11_col2 {\n",
              "  background-color: #f5eff6;\n",
              "  color: #000000;\n",
              "}\n",
              "#T_320b7_row4_col5 {\n",
              "  background-color: #dddbec;\n",
              "  color: #000000;\n",
              "}\n",
              "#T_320b7_row4_col6, #T_320b7_row4_col9, #T_320b7_row5_col8, #T_320b7_row8_col5, #T_320b7_row8_col7, #T_320b7_row9_col1, #T_320b7_row9_col2, #T_320b7_row9_col3, #T_320b7_row9_col4, #T_320b7_row9_col6, #T_320b7_row9_col10, #T_320b7_row9_col11, #T_320b7_row11_col0, #T_320b7_row11_col9 {\n",
              "  background-color: #fff7fb;\n",
              "  color: #000000;\n",
              "}\n",
              "#T_320b7_row4_col7 {\n",
              "  background-color: #d6d6e9;\n",
              "  color: #000000;\n",
              "}\n",
              "#T_320b7_row4_col8, #T_320b7_row10_col4, #T_320b7_row11_col8 {\n",
              "  background-color: #d9d8ea;\n",
              "  color: #000000;\n",
              "}\n",
              "#T_320b7_row5_col0, #T_320b7_row6_col11, #T_320b7_row11_col5 {\n",
              "  background-color: #dedcec;\n",
              "  color: #000000;\n",
              "}\n",
              "#T_320b7_row5_col1, #T_320b7_row6_col4, #T_320b7_row8_col9 {\n",
              "  background-color: #e0dded;\n",
              "  color: #000000;\n",
              "}\n",
              "#T_320b7_row5_col2 {\n",
              "  background-color: #79abd0;\n",
              "  color: #f1f1f1;\n",
              "}\n",
              "#T_320b7_row5_col3 {\n",
              "  background-color: #b9c6e0;\n",
              "  color: #000000;\n",
              "}\n",
              "#T_320b7_row5_col6 {\n",
              "  background-color: #a1bbda;\n",
              "  color: #000000;\n",
              "}\n",
              "#T_320b7_row5_col7, #T_320b7_row10_col0 {\n",
              "  background-color: #5c9fc9;\n",
              "  color: #f1f1f1;\n",
              "}\n",
              "#T_320b7_row5_col10, #T_320b7_row9_col0 {\n",
              "  background-color: #d2d2e7;\n",
              "  color: #000000;\n",
              "}\n",
              "#T_320b7_row5_col11 {\n",
              "  background-color: #f5eef6;\n",
              "  color: #000000;\n",
              "}\n",
              "#T_320b7_row6_col0 {\n",
              "  background-color: #308cbe;\n",
              "  color: #f1f1f1;\n",
              "}\n",
              "#T_320b7_row6_col2 {\n",
              "  background-color: #2987bc;\n",
              "  color: #f1f1f1;\n",
              "}\n",
              "#T_320b7_row6_col7 {\n",
              "  background-color: #056dab;\n",
              "  color: #f1f1f1;\n",
              "}\n",
              "#T_320b7_row6_col8 {\n",
              "  background-color: #b4c4df;\n",
              "  color: #000000;\n",
              "}\n",
              "#T_320b7_row6_col9 {\n",
              "  background-color: #dfddec;\n",
              "  color: #000000;\n",
              "}\n",
              "#T_320b7_row6_col10 {\n",
              "  background-color: #197db7;\n",
              "  color: #f1f1f1;\n",
              "}\n",
              "#T_320b7_row7_col0 {\n",
              "  background-color: #529bc7;\n",
              "  color: #f1f1f1;\n",
              "}\n",
              "#T_320b7_row7_col2, #T_320b7_row10_col6 {\n",
              "  background-color: #2182b9;\n",
              "  color: #f1f1f1;\n",
              "}\n",
              "#T_320b7_row7_col3 {\n",
              "  background-color: #045b8e;\n",
              "  color: #f1f1f1;\n",
              "}\n",
              "#T_320b7_row7_col5 {\n",
              "  background-color: #3991c1;\n",
              "  color: #f1f1f1;\n",
              "}\n",
              "#T_320b7_row7_col6 {\n",
              "  background-color: #0f76b3;\n",
              "  color: #f1f1f1;\n",
              "}\n",
              "#T_320b7_row7_col9 {\n",
              "  background-color: #f3edf5;\n",
              "  color: #000000;\n",
              "}\n",
              "#T_320b7_row7_col10 {\n",
              "  background-color: #1278b4;\n",
              "  color: #f1f1f1;\n",
              "}\n",
              "#T_320b7_row7_col11 {\n",
              "  background-color: #cdd0e5;\n",
              "  color: #000000;\n",
              "}\n",
              "#T_320b7_row8_col0 {\n",
              "  background-color: #cccfe5;\n",
              "  color: #000000;\n",
              "}\n",
              "#T_320b7_row8_col1 {\n",
              "  background-color: #bcc7e1;\n",
              "  color: #000000;\n",
              "}\n",
              "#T_320b7_row8_col2 {\n",
              "  background-color: #cacee5;\n",
              "  color: #000000;\n",
              "}\n",
              "#T_320b7_row8_col4 {\n",
              "  background-color: #f1ebf5;\n",
              "  color: #000000;\n",
              "}\n",
              "#T_320b7_row8_col6 {\n",
              "  background-color: #f6eff7;\n",
              "  color: #000000;\n",
              "}\n",
              "#T_320b7_row8_col11 {\n",
              "  background-color: #f1ebf4;\n",
              "  color: #000000;\n",
              "}\n",
              "#T_320b7_row9_col7 {\n",
              "  background-color: #f8f1f8;\n",
              "  color: #000000;\n",
              "}\n",
              "#T_320b7_row9_col8 {\n",
              "  background-color: #c4cbe3;\n",
              "  color: #000000;\n",
              "}\n",
              "#T_320b7_row10_col1 {\n",
              "  background-color: #9ebad9;\n",
              "  color: #000000;\n",
              "}\n",
              "#T_320b7_row10_col2 {\n",
              "  background-color: #589ec8;\n",
              "  color: #f1f1f1;\n",
              "}\n",
              "#T_320b7_row10_col8 {\n",
              "  background-color: #acc0dd;\n",
              "  color: #000000;\n",
              "}\n",
              "#T_320b7_row10_col9 {\n",
              "  background-color: #ede7f2;\n",
              "  color: #000000;\n",
              "}\n",
              "#T_320b7_row11_col1 {\n",
              "  background-color: #faf2f8;\n",
              "  color: #000000;\n",
              "}\n",
              "#T_320b7_row11_col3 {\n",
              "  background-color: #e9e5f1;\n",
              "  color: #000000;\n",
              "}\n",
              "#T_320b7_row11_col6 {\n",
              "  background-color: #fef6fb;\n",
              "  color: #000000;\n",
              "}\n",
              "#T_320b7_row11_col7 {\n",
              "  background-color: #d4d4e8;\n",
              "  color: #000000;\n",
              "}\n",
              "#T_320b7_row11_col10 {\n",
              "  background-color: #e8e4f0;\n",
              "  color: #000000;\n",
              "}\n",
              "</style>\n",
              "<table id=\"T_320b7_\" class=\"dataframe\">\n",
              "  <thead>\n",
              "    <tr>\n",
              "      <th class=\"blank level0\" >&nbsp;</th>\n",
              "      <th class=\"col_heading level0 col0\" >price</th>\n",
              "      <th class=\"col_heading level0 col1\" >bedrooms</th>\n",
              "      <th class=\"col_heading level0 col2\" >bathrooms</th>\n",
              "      <th class=\"col_heading level0 col3\" >sqft_living</th>\n",
              "      <th class=\"col_heading level0 col4\" >sqft_lot</th>\n",
              "      <th class=\"col_heading level0 col5\" >floors</th>\n",
              "      <th class=\"col_heading level0 col6\" >grade</th>\n",
              "      <th class=\"col_heading level0 col7\" >sqft_above</th>\n",
              "      <th class=\"col_heading level0 col8\" >sqft_basement</th>\n",
              "      <th class=\"col_heading level0 col9\" >lat</th>\n",
              "      <th class=\"col_heading level0 col10\" >sqft_living15</th>\n",
              "      <th class=\"col_heading level0 col11\" >sqft_lot15</th>\n",
              "    </tr>\n",
              "  </thead>\n",
              "  <tbody>\n",
              "    <tr>\n",
              "      <th id=\"T_320b7_level0_row0\" class=\"row_heading level0 row0\" >price</th>\n",
              "      <td id=\"T_320b7_row0_col0\" class=\"data row0 col0\" >1.00</td>\n",
              "      <td id=\"T_320b7_row0_col1\" class=\"data row0 col1\" >0.31</td>\n",
              "      <td id=\"T_320b7_row0_col2\" class=\"data row0 col2\" >0.53</td>\n",
              "      <td id=\"T_320b7_row0_col3\" class=\"data row0 col3\" >0.70</td>\n",
              "      <td id=\"T_320b7_row0_col4\" class=\"data row0 col4\" >0.09</td>\n",
              "      <td id=\"T_320b7_row0_col5\" class=\"data row0 col5\" >0.26</td>\n",
              "      <td id=\"T_320b7_row0_col6\" class=\"data row0 col6\" >0.67</td>\n",
              "      <td id=\"T_320b7_row0_col7\" class=\"data row0 col7\" >0.61</td>\n",
              "      <td id=\"T_320b7_row0_col8\" class=\"data row0 col8\" >0.32</td>\n",
              "      <td id=\"T_320b7_row0_col9\" class=\"data row0 col9\" >0.31</td>\n",
              "      <td id=\"T_320b7_row0_col10\" class=\"data row0 col10\" >0.59</td>\n",
              "      <td id=\"T_320b7_row0_col11\" class=\"data row0 col11\" >0.08</td>\n",
              "    </tr>\n",
              "    <tr>\n",
              "      <th id=\"T_320b7_level0_row1\" class=\"row_heading level0 row1\" >bedrooms</th>\n",
              "      <td id=\"T_320b7_row1_col0\" class=\"data row1 col0\" >0.31</td>\n",
              "      <td id=\"T_320b7_row1_col1\" class=\"data row1 col1\" >1.00</td>\n",
              "      <td id=\"T_320b7_row1_col2\" class=\"data row1 col2\" >0.52</td>\n",
              "      <td id=\"T_320b7_row1_col3\" class=\"data row1 col3\" >0.58</td>\n",
              "      <td id=\"T_320b7_row1_col4\" class=\"data row1 col4\" >0.03</td>\n",
              "      <td id=\"T_320b7_row1_col5\" class=\"data row1 col5\" >0.18</td>\n",
              "      <td id=\"T_320b7_row1_col6\" class=\"data row1 col6\" >0.36</td>\n",
              "      <td id=\"T_320b7_row1_col7\" class=\"data row1 col7\" >0.48</td>\n",
              "      <td id=\"T_320b7_row1_col8\" class=\"data row1 col8\" >0.30</td>\n",
              "      <td id=\"T_320b7_row1_col9\" class=\"data row1 col9\" >-0.01</td>\n",
              "      <td id=\"T_320b7_row1_col10\" class=\"data row1 col10\" >0.39</td>\n",
              "      <td id=\"T_320b7_row1_col11\" class=\"data row1 col11\" >0.03</td>\n",
              "    </tr>\n",
              "    <tr>\n",
              "      <th id=\"T_320b7_level0_row2\" class=\"row_heading level0 row2\" >bathrooms</th>\n",
              "      <td id=\"T_320b7_row2_col0\" class=\"data row2 col0\" >0.53</td>\n",
              "      <td id=\"T_320b7_row2_col1\" class=\"data row2 col1\" >0.52</td>\n",
              "      <td id=\"T_320b7_row2_col2\" class=\"data row2 col2\" >1.00</td>\n",
              "      <td id=\"T_320b7_row2_col3\" class=\"data row2 col3\" >0.75</td>\n",
              "      <td id=\"T_320b7_row2_col4\" class=\"data row2 col4\" >0.09</td>\n",
              "      <td id=\"T_320b7_row2_col5\" class=\"data row2 col5\" >0.50</td>\n",
              "      <td id=\"T_320b7_row2_col6\" class=\"data row2 col6\" >0.66</td>\n",
              "      <td id=\"T_320b7_row2_col7\" class=\"data row2 col7\" >0.69</td>\n",
              "      <td id=\"T_320b7_row2_col8\" class=\"data row2 col8\" >0.28</td>\n",
              "      <td id=\"T_320b7_row2_col9\" class=\"data row2 col9\" >0.02</td>\n",
              "      <td id=\"T_320b7_row2_col10\" class=\"data row2 col10\" >0.57</td>\n",
              "      <td id=\"T_320b7_row2_col11\" class=\"data row2 col11\" >0.09</td>\n",
              "    </tr>\n",
              "    <tr>\n",
              "      <th id=\"T_320b7_level0_row3\" class=\"row_heading level0 row3\" >sqft_living</th>\n",
              "      <td id=\"T_320b7_row3_col0\" class=\"data row3 col0\" >0.70</td>\n",
              "      <td id=\"T_320b7_row3_col1\" class=\"data row3 col1\" >0.58</td>\n",
              "      <td id=\"T_320b7_row3_col2\" class=\"data row3 col2\" >0.75</td>\n",
              "      <td id=\"T_320b7_row3_col3\" class=\"data row3 col3\" >1.00</td>\n",
              "      <td id=\"T_320b7_row3_col4\" class=\"data row3 col4\" >0.17</td>\n",
              "      <td id=\"T_320b7_row3_col5\" class=\"data row3 col5\" >0.35</td>\n",
              "      <td id=\"T_320b7_row3_col6\" class=\"data row3 col6\" >0.76</td>\n",
              "      <td id=\"T_320b7_row3_col7\" class=\"data row3 col7\" >0.88</td>\n",
              "      <td id=\"T_320b7_row3_col8\" class=\"data row3 col8\" >0.44</td>\n",
              "      <td id=\"T_320b7_row3_col9\" class=\"data row3 col9\" >0.05</td>\n",
              "      <td id=\"T_320b7_row3_col10\" class=\"data row3 col10\" >0.76</td>\n",
              "      <td id=\"T_320b7_row3_col11\" class=\"data row3 col11\" >0.18</td>\n",
              "    </tr>\n",
              "    <tr>\n",
              "      <th id=\"T_320b7_level0_row4\" class=\"row_heading level0 row4\" >sqft_lot</th>\n",
              "      <td id=\"T_320b7_row4_col0\" class=\"data row4 col0\" >0.09</td>\n",
              "      <td id=\"T_320b7_row4_col1\" class=\"data row4 col1\" >0.03</td>\n",
              "      <td id=\"T_320b7_row4_col2\" class=\"data row4 col2\" >0.09</td>\n",
              "      <td id=\"T_320b7_row4_col3\" class=\"data row4 col3\" >0.17</td>\n",
              "      <td id=\"T_320b7_row4_col4\" class=\"data row4 col4\" >1.00</td>\n",
              "      <td id=\"T_320b7_row4_col5\" class=\"data row4 col5\" >-0.01</td>\n",
              "      <td id=\"T_320b7_row4_col6\" class=\"data row4 col6\" >0.11</td>\n",
              "      <td id=\"T_320b7_row4_col7\" class=\"data row4 col7\" >0.18</td>\n",
              "      <td id=\"T_320b7_row4_col8\" class=\"data row4 col8\" >0.02</td>\n",
              "      <td id=\"T_320b7_row4_col9\" class=\"data row4 col9\" >-0.09</td>\n",
              "      <td id=\"T_320b7_row4_col10\" class=\"data row4 col10\" >0.14</td>\n",
              "      <td id=\"T_320b7_row4_col11\" class=\"data row4 col11\" >0.72</td>\n",
              "    </tr>\n",
              "    <tr>\n",
              "      <th id=\"T_320b7_level0_row5\" class=\"row_heading level0 row5\" >floors</th>\n",
              "      <td id=\"T_320b7_row5_col0\" class=\"data row5 col0\" >0.26</td>\n",
              "      <td id=\"T_320b7_row5_col1\" class=\"data row5 col1\" >0.18</td>\n",
              "      <td id=\"T_320b7_row5_col2\" class=\"data row5 col2\" >0.50</td>\n",
              "      <td id=\"T_320b7_row5_col3\" class=\"data row5 col3\" >0.35</td>\n",
              "      <td id=\"T_320b7_row5_col4\" class=\"data row5 col4\" >-0.01</td>\n",
              "      <td id=\"T_320b7_row5_col5\" class=\"data row5 col5\" >1.00</td>\n",
              "      <td id=\"T_320b7_row5_col6\" class=\"data row5 col6\" >0.46</td>\n",
              "      <td id=\"T_320b7_row5_col7\" class=\"data row5 col7\" >0.52</td>\n",
              "      <td id=\"T_320b7_row5_col8\" class=\"data row5 col8\" >-0.25</td>\n",
              "      <td id=\"T_320b7_row5_col9\" class=\"data row5 col9\" >0.05</td>\n",
              "      <td id=\"T_320b7_row5_col10\" class=\"data row5 col10\" >0.28</td>\n",
              "      <td id=\"T_320b7_row5_col11\" class=\"data row5 col11\" >-0.01</td>\n",
              "    </tr>\n",
              "    <tr>\n",
              "      <th id=\"T_320b7_level0_row6\" class=\"row_heading level0 row6\" >grade</th>\n",
              "      <td id=\"T_320b7_row6_col0\" class=\"data row6 col0\" >0.67</td>\n",
              "      <td id=\"T_320b7_row6_col1\" class=\"data row6 col1\" >0.36</td>\n",
              "      <td id=\"T_320b7_row6_col2\" class=\"data row6 col2\" >0.66</td>\n",
              "      <td id=\"T_320b7_row6_col3\" class=\"data row6 col3\" >0.76</td>\n",
              "      <td id=\"T_320b7_row6_col4\" class=\"data row6 col4\" >0.11</td>\n",
              "      <td id=\"T_320b7_row6_col5\" class=\"data row6 col5\" >0.46</td>\n",
              "      <td id=\"T_320b7_row6_col6\" class=\"data row6 col6\" >1.00</td>\n",
              "      <td id=\"T_320b7_row6_col7\" class=\"data row6 col7\" >0.76</td>\n",
              "      <td id=\"T_320b7_row6_col8\" class=\"data row6 col8\" >0.17</td>\n",
              "      <td id=\"T_320b7_row6_col9\" class=\"data row6 col9\" >0.11</td>\n",
              "      <td id=\"T_320b7_row6_col10\" class=\"data row6 col10\" >0.71</td>\n",
              "      <td id=\"T_320b7_row6_col11\" class=\"data row6 col11\" >0.12</td>\n",
              "    </tr>\n",
              "    <tr>\n",
              "      <th id=\"T_320b7_level0_row7\" class=\"row_heading level0 row7\" >sqft_above</th>\n",
              "      <td id=\"T_320b7_row7_col0\" class=\"data row7 col0\" >0.61</td>\n",
              "      <td id=\"T_320b7_row7_col1\" class=\"data row7 col1\" >0.48</td>\n",
              "      <td id=\"T_320b7_row7_col2\" class=\"data row7 col2\" >0.69</td>\n",
              "      <td id=\"T_320b7_row7_col3\" class=\"data row7 col3\" >0.88</td>\n",
              "      <td id=\"T_320b7_row7_col4\" class=\"data row7 col4\" >0.18</td>\n",
              "      <td id=\"T_320b7_row7_col5\" class=\"data row7 col5\" >0.52</td>\n",
              "      <td id=\"T_320b7_row7_col6\" class=\"data row7 col6\" >0.76</td>\n",
              "      <td id=\"T_320b7_row7_col7\" class=\"data row7 col7\" >1.00</td>\n",
              "      <td id=\"T_320b7_row7_col8\" class=\"data row7 col8\" >-0.05</td>\n",
              "      <td id=\"T_320b7_row7_col9\" class=\"data row7 col9\" >-0.00</td>\n",
              "      <td id=\"T_320b7_row7_col10\" class=\"data row7 col10\" >0.73</td>\n",
              "      <td id=\"T_320b7_row7_col11\" class=\"data row7 col11\" >0.19</td>\n",
              "    </tr>\n",
              "    <tr>\n",
              "      <th id=\"T_320b7_level0_row8\" class=\"row_heading level0 row8\" >sqft_basement</th>\n",
              "      <td id=\"T_320b7_row8_col0\" class=\"data row8 col0\" >0.32</td>\n",
              "      <td id=\"T_320b7_row8_col1\" class=\"data row8 col1\" >0.30</td>\n",
              "      <td id=\"T_320b7_row8_col2\" class=\"data row8 col2\" >0.28</td>\n",
              "      <td id=\"T_320b7_row8_col3\" class=\"data row8 col3\" >0.44</td>\n",
              "      <td id=\"T_320b7_row8_col4\" class=\"data row8 col4\" >0.02</td>\n",
              "      <td id=\"T_320b7_row8_col5\" class=\"data row8 col5\" >-0.25</td>\n",
              "      <td id=\"T_320b7_row8_col6\" class=\"data row8 col6\" >0.17</td>\n",
              "      <td id=\"T_320b7_row8_col7\" class=\"data row8 col7\" >-0.05</td>\n",
              "      <td id=\"T_320b7_row8_col8\" class=\"data row8 col8\" >1.00</td>\n",
              "      <td id=\"T_320b7_row8_col9\" class=\"data row8 col9\" >0.11</td>\n",
              "      <td id=\"T_320b7_row8_col10\" class=\"data row8 col10\" >0.20</td>\n",
              "      <td id=\"T_320b7_row8_col11\" class=\"data row8 col11\" >0.02</td>\n",
              "    </tr>\n",
              "    <tr>\n",
              "      <th id=\"T_320b7_level0_row9\" class=\"row_heading level0 row9\" >lat</th>\n",
              "      <td id=\"T_320b7_row9_col0\" class=\"data row9 col0\" >0.31</td>\n",
              "      <td id=\"T_320b7_row9_col1\" class=\"data row9 col1\" >-0.01</td>\n",
              "      <td id=\"T_320b7_row9_col2\" class=\"data row9 col2\" >0.02</td>\n",
              "      <td id=\"T_320b7_row9_col3\" class=\"data row9 col3\" >0.05</td>\n",
              "      <td id=\"T_320b7_row9_col4\" class=\"data row9 col4\" >-0.09</td>\n",
              "      <td id=\"T_320b7_row9_col5\" class=\"data row9 col5\" >0.05</td>\n",
              "      <td id=\"T_320b7_row9_col6\" class=\"data row9 col6\" >0.11</td>\n",
              "      <td id=\"T_320b7_row9_col7\" class=\"data row9 col7\" >-0.00</td>\n",
              "      <td id=\"T_320b7_row9_col8\" class=\"data row9 col8\" >0.11</td>\n",
              "      <td id=\"T_320b7_row9_col9\" class=\"data row9 col9\" >1.00</td>\n",
              "      <td id=\"T_320b7_row9_col10\" class=\"data row9 col10\" >0.05</td>\n",
              "      <td id=\"T_320b7_row9_col11\" class=\"data row9 col11\" >-0.09</td>\n",
              "    </tr>\n",
              "    <tr>\n",
              "      <th id=\"T_320b7_level0_row10\" class=\"row_heading level0 row10\" >sqft_living15</th>\n",
              "      <td id=\"T_320b7_row10_col0\" class=\"data row10 col0\" >0.59</td>\n",
              "      <td id=\"T_320b7_row10_col1\" class=\"data row10 col1\" >0.39</td>\n",
              "      <td id=\"T_320b7_row10_col2\" class=\"data row10 col2\" >0.57</td>\n",
              "      <td id=\"T_320b7_row10_col3\" class=\"data row10 col3\" >0.76</td>\n",
              "      <td id=\"T_320b7_row10_col4\" class=\"data row10 col4\" >0.14</td>\n",
              "      <td id=\"T_320b7_row10_col5\" class=\"data row10 col5\" >0.28</td>\n",
              "      <td id=\"T_320b7_row10_col6\" class=\"data row10 col6\" >0.71</td>\n",
              "      <td id=\"T_320b7_row10_col7\" class=\"data row10 col7\" >0.73</td>\n",
              "      <td id=\"T_320b7_row10_col8\" class=\"data row10 col8\" >0.20</td>\n",
              "      <td id=\"T_320b7_row10_col9\" class=\"data row10 col9\" >0.05</td>\n",
              "      <td id=\"T_320b7_row10_col10\" class=\"data row10 col10\" >1.00</td>\n",
              "      <td id=\"T_320b7_row10_col11\" class=\"data row10 col11\" >0.18</td>\n",
              "    </tr>\n",
              "    <tr>\n",
              "      <th id=\"T_320b7_level0_row11\" class=\"row_heading level0 row11\" >sqft_lot15</th>\n",
              "      <td id=\"T_320b7_row11_col0\" class=\"data row11 col0\" >0.08</td>\n",
              "      <td id=\"T_320b7_row11_col1\" class=\"data row11 col1\" >0.03</td>\n",
              "      <td id=\"T_320b7_row11_col2\" class=\"data row11 col2\" >0.09</td>\n",
              "      <td id=\"T_320b7_row11_col3\" class=\"data row11 col3\" >0.18</td>\n",
              "      <td id=\"T_320b7_row11_col4\" class=\"data row11 col4\" >0.72</td>\n",
              "      <td id=\"T_320b7_row11_col5\" class=\"data row11 col5\" >-0.01</td>\n",
              "      <td id=\"T_320b7_row11_col6\" class=\"data row11 col6\" >0.12</td>\n",
              "      <td id=\"T_320b7_row11_col7\" class=\"data row11 col7\" >0.19</td>\n",
              "      <td id=\"T_320b7_row11_col8\" class=\"data row11 col8\" >0.02</td>\n",
              "      <td id=\"T_320b7_row11_col9\" class=\"data row11 col9\" >-0.09</td>\n",
              "      <td id=\"T_320b7_row11_col10\" class=\"data row11 col10\" >0.18</td>\n",
              "      <td id=\"T_320b7_row11_col11\" class=\"data row11 col11\" >1.00</td>\n",
              "    </tr>\n",
              "  </tbody>\n",
              "</table>\n"
            ]
          },
          "metadata": {},
          "execution_count": 33
        }
      ]
    },
    {
      "cell_type": "markdown",
      "source": [
        "**X dan y**"
      ],
      "metadata": {
        "id": "f-t9n1yPHYcM"
      }
    },
    {
      "cell_type": "code",
      "source": [
        "predictor = ['bathrooms'] #X\n",
        "out = ['price'] #(Yi)\n",
        "\n",
        "#Rumus LR Yi=bo+b1X\n",
        "model = LinearRegression()\n",
        "model.fit(data[predictor], data[out])\n",
        "\n",
        "print(f'Intercept: {model.intercept_:}') #Nilai untuk b0 atau c\n",
        "print(f'Coefficient: {model.coef_[0]:}') #Nilai untuk b1 atau m\n",
        "\n",
        "fitted = model.predict(data[predictor]) #(Yi hat=Ypred)\n",
        "residuals = data[out] - fitted #e=Yi-Yhat\n"
      ],
      "metadata": {
        "colab": {
          "base_uri": "https://localhost:8080/"
        },
        "id": "MuUdefW7Iu3n",
        "outputId": "aa780bda-8a7a-4bdf-c867-5ed653bf72ed"
      },
      "execution_count": null,
      "outputs": [
        {
          "output_type": "stream",
          "name": "stdout",
          "text": [
            "Intercept: [10708.30853037]\n",
            "Coefficient: [250326.5163021]\n"
          ]
        }
      ]
    },
    {
      "cell_type": "code",
      "source": [
        "ax = data.plot.scatter(x='bathrooms', y='price', figsize=(10, 7))\n",
        "ax.plot(data.bathrooms, fitted, linewidth=5, color='k', label=f'linear regression: Yi = {model.intercept_:} + {model.coef_[0]}X')\n",
        "for x, yactual, yfitted in zip(data.bathrooms, data.price, fitted): \n",
        "    ax.plot((x, x), (yactual, yfitted), '--', color='C1')\n",
        "plt.tight_layout()\n",
        "plt.legend()   #fungsi plt.legend () melacak gaya dan warna garis, dan mencocokkannya dengan label yang benar.\n",
        "plt.show()"
      ],
      "metadata": {
        "colab": {
          "base_uri": "https://localhost:8080/",
          "height": 513
        },
        "id": "mZbmv64LJ__t",
        "outputId": "d9501a2b-1312-44f8-ef7b-b960cee3cf41"
      },
      "execution_count": null,
      "outputs": [
        {
          "output_type": "display_data",
          "data": {
            "text/plain": [
              "<Figure size 720x504 with 1 Axes>"
            ],
            "image/png": "[encoded data removed]"
          },
          "metadata": {
            "needs_background": "light"
          }
        }
      ]
    },
    {
      "cell_type": "markdown",
      "source": [
        "Variabel dependen adalah apa yang diukur dalam percobaan. Ini adalah perubahan karena adanya perubahan pada variabel independen."
      ],
      "metadata": {
        "id": "U7IUIwacvUGR"
      }
    },
    {
      "cell_type": "code",
      "source": [
        "X=data1.iloc[:,1:] \n",
        "y=data1['price']"
      ],
      "metadata": {
        "id": "a9HDIRmx0g1U"
      },
      "execution_count": null,
      "outputs": []
    },
    {
      "cell_type": "code",
      "source": [
        "linreg = LinearRegression()\n",
        "linreg.fit(X, y)"
      ],
      "metadata": {
        "colab": {
          "base_uri": "https://localhost:8080/"
        },
        "id": "Koz83rdI0U8M",
        "outputId": "4e0bca0b-b5da-4175-f9b5-6c485a39b8ce"
      },
      "execution_count": null,
      "outputs": [
        {
          "output_type": "execute_result",
          "data": {
            "text/plain": [
              "LinearRegression()"
            ]
          },
          "metadata": {},
          "execution_count": 15
        }
      ]
    },
    {
      "cell_type": "code",
      "source": [
        "from sklearn.model_selection import train_test_split\n",
        "X_train, X_test, y_train, y_test = train_test_split(X, y, train_size = 0.7)"
      ],
      "metadata": {
        "id": "mM5UcNgq9OKk"
      },
      "execution_count": null,
      "outputs": []
    },
    {
      "cell_type": "code",
      "source": [
        "# cek shape dari data training dan test\n",
        "print(X_train.shape)\n",
        "print(X_test.shape)\n",
        "print(y_train.shape)\n",
        "print(y_test.shape)"
      ],
      "metadata": {
        "colab": {
          "base_uri": "https://localhost:8080/"
        },
        "id": "TOEDeaXIIBkd",
        "outputId": "aceffb86-cac3-409d-aa77-c1426a227025"
      },
      "execution_count": null,
      "outputs": [
        {
          "output_type": "stream",
          "name": "stdout",
          "text": [
            "(15129, 11)\n",
            "(6484, 11)\n",
            "(15129,)\n",
            "(6484,)\n"
          ]
        }
      ]
    },
    {
      "cell_type": "code",
      "source": [
        "print(\"Banyak data latih setelah dilakukan Train-Validation Split: \", len(X_train))\n",
        "print(\"Banyak data uji setelah dilakukan Train-Validation Split: \", len(X_test))"
      ],
      "metadata": {
        "colab": {
          "base_uri": "https://localhost:8080/"
        },
        "id": "XVlMy-LW9RS1",
        "outputId": "c03ebc50-a170-47e2-8603-30ee37fdf587"
      },
      "execution_count": null,
      "outputs": [
        {
          "output_type": "stream",
          "name": "stdout",
          "text": [
            "Banyak data latih setelah dilakukan Train-Validation Split:  15129\n",
            "Banyak data uji setelah dilakukan Train-Validation Split:  6484\n"
          ]
        }
      ]
    },
    {
      "cell_type": "code",
      "source": [
        "linreg = LinearRegression()\n",
        "linreg.fit(X_train, y_train)\n",
        "y_pred = linreg.predict(X_test)"
      ],
      "metadata": {
        "id": "X-8gtTSl9ZhE"
      },
      "execution_count": null,
      "outputs": []
    },
    {
      "cell_type": "code",
      "source": [
        "rumah = X.iloc[2000]\n",
        "rumah\n"
      ],
      "metadata": {
        "colab": {
          "base_uri": "https://localhost:8080/"
        },
        "id": "SfSO3ryF1oaE",
        "outputId": "2b452624-a591-4ef7-aa26-ca1f55a554b6"
      },
      "execution_count": null,
      "outputs": [
        {
          "output_type": "execute_result",
          "data": {
            "text/plain": [
              "bedrooms            2.0000\n",
              "bathrooms           1.0000\n",
              "sqft_living      1010.0000\n",
              "sqft_lot         3400.0000\n",
              "floors              1.0000\n",
              "grade               7.0000\n",
              "sqft_above       1010.0000\n",
              "sqft_basement       0.0000\n",
              "lat                47.6711\n",
              "sqft_living15    1800.0000\n",
              "sqft_lot15       3600.0000\n",
              "Name: 2000, dtype: float64"
            ]
          },
          "metadata": {},
          "execution_count": 20
        }
      ]
    },
    {
      "cell_type": "code",
      "source": [
        "pred_rumah = linreg.predict(rumah.values.reshape(1, -1))\n",
        "print(\"predicted value:\", pred_rumah[0])"
      ],
      "metadata": {
        "colab": {
          "base_uri": "https://localhost:8080/"
        },
        "id": "8wKq6d2i5E_Y",
        "outputId": "ac999148-3d67-496d-f0ef-c10da4cc7aa8"
      },
      "execution_count": null,
      "outputs": [
        {
          "output_type": "stream",
          "name": "stdout",
          "text": [
            "predicted value: 401191.0407320261\n"
          ]
        }
      ]
    },
    {
      "cell_type": "code",
      "source": [
        "print(\"actual value:\", y[2000])"
      ],
      "metadata": {
        "colab": {
          "base_uri": "https://localhost:8080/"
        },
        "id": "Gr3leTEI5afe",
        "outputId": "e303faec-82d3-4f3f-bcff-7054ef142d19"
      },
      "execution_count": null,
      "outputs": [
        {
          "output_type": "stream",
          "name": "stdout",
          "text": [
            "actual value: 470450.0\n"
          ]
        }
      ]
    },
    {
      "cell_type": "code",
      "source": [
        "y_pred = linreg.predict(X)\n",
        "y_pred[:10]"
      ],
      "metadata": {
        "colab": {
          "base_uri": "https://localhost:8080/"
        },
        "id": "YP9P671G8z-h",
        "outputId": "c258a277-b0a2-4660-b827-8662d6f29e96"
      },
      "execution_count": null,
      "outputs": [
        {
          "output_type": "execute_result",
          "data": {
            "text/plain": [
              "array([ 280919.80158216,  691042.0681711 ,  325162.19144132,\n",
              "        421926.19848346,  541951.90133908, 1638781.6937063 ,\n",
              "        245434.96127557,  190953.48798901,  442879.75990347,\n",
              "        320867.42378603])"
            ]
          },
          "metadata": {},
          "execution_count": 23
        }
      ]
    },
    {
      "cell_type": "code",
      "source": [
        "harga = pd.DataFrame({\"actual\": y,\n",
        "          \"predicted\": y_pred})\n",
        "harga.head()"
      ],
      "metadata": {
        "colab": {
          "base_uri": "https://localhost:8080/",
          "height": 206
        },
        "id": "VPxUobZs87pI",
        "outputId": "894c655f-3f71-4606-a2f9-4ff44c455b2e"
      },
      "execution_count": null,
      "outputs": [
        {
          "output_type": "execute_result",
          "data": {
            "text/plain": [
              "     actual      predicted\n",
              "0  221900.0  280919.801582\n",
              "1  538000.0  691042.068171\n",
              "2  180000.0  325162.191441\n",
              "3  604000.0  421926.198483\n",
              "4  510000.0  541951.901339"
            ],
            "text/html": [
              "\n",
              "  <div id=\"df-77db8d22-4e7e-4b21-ba91-cbf77d83471e\">\n",
              "    <div class=\"colab-df-container\">\n",
              "      <div>\n",
              "<style scoped>\n",
              "    .dataframe tbody tr th:only-of-type {\n",
              "        vertical-align: middle;\n",
              "    }\n",
              "\n",
              "    .dataframe tbody tr th {\n",
              "        vertical-align: top;\n",
              "    }\n",
              "\n",
              "    .dataframe thead th {\n",
              "        text-align: right;\n",
              "    }\n",
              "</style>\n",
              "<table border=\"1\" class=\"dataframe\">\n",
              "  <thead>\n",
              "    <tr style=\"text-align: right;\">\n",
              "      <th></th>\n",
              "      <th>actual</th>\n",
              "      <th>predicted</th>\n",
              "    </tr>\n",
              "  </thead>\n",
              "  <tbody>\n",
              "    <tr>\n",
              "      <th>0</th>\n",
              "      <td>221900.0</td>\n",
              "      <td>280919.801582</td>\n",
              "    </tr>\n",
              "    <tr>\n",
              "      <th>1</th>\n",
              "      <td>538000.0</td>\n",
              "      <td>691042.068171</td>\n",
              "    </tr>\n",
              "    <tr>\n",
              "      <th>2</th>\n",
              "      <td>180000.0</td>\n",
              "      <td>325162.191441</td>\n",
              "    </tr>\n",
              "    <tr>\n",
              "      <th>3</th>\n",
              "      <td>604000.0</td>\n",
              "      <td>421926.198483</td>\n",
              "    </tr>\n",
              "    <tr>\n",
              "      <th>4</th>\n",
              "      <td>510000.0</td>\n",
              "      <td>541951.901339</td>\n",
              "    </tr>\n",
              "  </tbody>\n",
              "</table>\n",
              "</div>\n",
              "      <button class=\"colab-df-convert\" onclick=\"convertToInteractive('df-77db8d22-4e7e-4b21-ba91-cbf77d83471e')\"\n",
              "              title=\"Convert this dataframe to an interactive table.\"\n",
              "              style=\"display:none;\">\n",
              "        \n",
              "  <svg xmlns=\"http://www.w3.org/2000/svg\" height=\"24px\"viewBox=\"0 0 24 24\"\n",
              "       width=\"24px\">\n",
              "    <path d=\"M0 0h24v24H0V0z\" fill=\"none\"/>\n",
              "    <path d=\"M18.56 5.44l.94 2.06.94-2.06 2.06-.94-2.06-.94-.94-2.06-.94 2.06-2.06.94zm-11 1L8.5 8.5l.94-2.06 2.06-.94-2.06-.94L8.5 2.5l-.94 2.06-2.06.94zm10 10l.94 2.06.94-2.06 2.06-.94-2.06-.94-.94-2.06-.94 2.06-2.06.94z\"/><path d=\"M17.41 7.96l-1.37-1.37c-.4-.4-.92-.59-1.43-.59-.52 0-1.04.2-1.43.59L10.3 9.45l-7.72 7.72c-.78.78-.78 2.05 0 2.83L4 21.41c.39.39.9.59 1.41.59.51 0 1.02-.2 1.41-.59l7.78-7.78 2.81-2.81c.8-.78.8-2.07 0-2.86zM5.41 20L4 18.59l7.72-7.72 1.47 1.35L5.41 20z\"/>\n",
              "  </svg>\n",
              "      </button>\n",
              "      \n",
              "  <style>\n",
              "    .colab-df-container {\n",
              "      display:flex;\n",
              "      flex-wrap:wrap;\n",
              "      gap: 12px;\n",
              "    }\n",
              "\n",
              "    .colab-df-convert {\n",
              "      background-color: #E8F0FE;\n",
              "      border: none;\n",
              "      border-radius: 50%;\n",
              "      cursor: pointer;\n",
              "      display: none;\n",
              "      fill: #1967D2;\n",
              "      height: 32px;\n",
              "      padding: 0 0 0 0;\n",
              "      width: 32px;\n",
              "    }\n",
              "\n",
              "    .colab-df-convert:hover {\n",
              "      background-color: #E2EBFA;\n",
              "      box-shadow: 0px 1px 2px rgba(60, 64, 67, 0.3), 0px 1px 3px 1px rgba(60, 64, 67, 0.15);\n",
              "      fill: #174EA6;\n",
              "    }\n",
              "\n",
              "    [theme=dark] .colab-df-convert {\n",
              "      background-color: #3B4455;\n",
              "      fill: #D2E3FC;\n",
              "    }\n",
              "\n",
              "    [theme=dark] .colab-df-convert:hover {\n",
              "      background-color: #434B5C;\n",
              "      box-shadow: 0px 1px 3px 1px rgba(0, 0, 0, 0.15);\n",
              "      filter: drop-shadow(0px 1px 2px rgba(0, 0, 0, 0.3));\n",
              "      fill: #FFFFFF;\n",
              "    }\n",
              "  </style>\n",
              "\n",
              "      <script>\n",
              "        const buttonEl =\n",
              "          document.querySelector('#df-77db8d22-4e7e-4b21-ba91-cbf77d83471e button.colab-df-convert');\n",
              "        buttonEl.style.display =\n",
              "          google.colab.kernel.accessAllowed ? 'block' : 'none';\n",
              "\n",
              "        async function convertToInteractive(key) {\n",
              "          const element = document.querySelector('#df-77db8d22-4e7e-4b21-ba91-cbf77d83471e');\n",
              "          const dataTable =\n",
              "            await google.colab.kernel.invokeFunction('convertToInteractive',\n",
              "                                                     [key], {});\n",
              "          if (!dataTable) return;\n",
              "\n",
              "          const docLinkHtml = 'Like what you see? Visit the ' +\n",
              "            '<a target=\"_blank\" href=https://colab.research.google.com/notebooks/data_table.ipynb>data table notebook</a>'\n",
              "            + ' to learn more about interactive tables.';\n",
              "          element.innerHTML = '';\n",
              "          dataTable['output_type'] = 'display_data';\n",
              "          await google.colab.output.renderOutput(dataTable, element);\n",
              "          const docLink = document.createElement('div');\n",
              "          docLink.innerHTML = docLinkHtml;\n",
              "          element.appendChild(docLink);\n",
              "        }\n",
              "      </script>\n",
              "    </div>\n",
              "  </div>\n",
              "  "
            ]
          },
          "metadata": {},
          "execution_count": 24
        }
      ]
    },
    {
      "cell_type": "code",
      "source": [
        "from sklearn.metrics import r2_score\n",
        "r2_score(y,y_pred)"
      ],
      "metadata": {
        "colab": {
          "base_uri": "https://localhost:8080/"
        },
        "id": "At6fgpxZDAdf",
        "outputId": "cf6f6f88-216d-41ea-fc7e-953ad9f4cd73"
      },
      "execution_count": null,
      "outputs": [
        {
          "output_type": "execute_result",
          "data": {
            "text/plain": [
              "0.6080403147312722"
            ]
          },
          "metadata": {},
          "execution_count": 25
        }
      ]
    },
    {
      "cell_type": "code",
      "source": [
        "from sklearn.metrics import mean_absolute_error\n",
        "mean_absolute_error(y, y_pred)"
      ],
      "metadata": {
        "colab": {
          "base_uri": "https://localhost:8080/"
        },
        "id": "ZHJ9a5w7DHF8",
        "outputId": "e875d087-b9a5-49d0-f443-ee39bdba3c1a"
      },
      "execution_count": null,
      "outputs": [
        {
          "output_type": "execute_result",
          "data": {
            "text/plain": [
              "144247.80425248318"
            ]
          },
          "metadata": {},
          "execution_count": 26
        }
      ]
    },
    {
      "cell_type": "code",
      "source": [
        ""
      ],
      "metadata": {
        "id": "Hww9t32qDz3K"
      },
      "execution_count": null,
      "outputs": []
    },
    {
      "cell_type": "markdown",
      "source": [
        "# **Regresi Logistik**\n",
        "\n",
        "Algoritme machine learning yang diawasi dalam Python yang digunakan dalam memperkirakan nilai diskrit dalam biner, misalnya: 0/1, ya/tidak, benar/salah. Hal ini didasarkan pada satu set variabel independen. Algoritma ini digunakan untuk memprediksi kemungkinan terjadinya suatu peristiwa dengan memasukkan data tersebut ke dalam kurva logistik atau fungsi logistik. Inilah sebabnya mengapa disebut juga regresi logistik. Regresi logistik, juga disebut sebagai fungsi Sigmoid, mengambil angka yang bernilai nyata dan kemudian memetakannya ke nilai yang berada di antara 0 dan 1. Algoritma ini menemukan kegunaannya dalam menemukan email spam, prediksi klik situs web atau iklan, dan churn pelanggan. "
      ],
      "metadata": {
        "id": "QZfWOksxoPyP"
      }
    },
    {
      "cell_type": "code",
      "source": [
        "from sklearn.linear_model import LogisticRegression\n",
        "from sklearn.model_selection import train_test_split\n",
        "from sklearn.metrics import accuracy_score # metrics untuk accuracy\n",
        "from sklearn.preprocessing import PolynomialFeatures\n",
        "from sklearn.pipeline import Pipeline\n",
        "from sklearn import preprocessing\n",
        "from sklearn.preprocessing import LabelEncoder\n",
        "from sklearn.datasets import make_classification \n",
        "from sklearn.metrics import confusion_matrix, precision_score, recall_score"
      ],
      "metadata": {
        "id": "8pnUimoG0uku"
      },
      "execution_count": null,
      "outputs": []
    },
    {
      "cell_type": "code",
      "source": [
        "url1 = 'https://raw.githubusercontent.com/aayushs879/Kaggle-Bank-Marketing-Dataset/master/bank.csv'\n",
        "df = pd.read_csv(url1)\n",
        "df"
      ],
      "metadata": {
        "id": "TM9E4vdROr4B",
        "colab": {
          "base_uri": "https://localhost:8080/",
          "height": 504
        },
        "outputId": "0560237b-aa39-4b1a-e2e5-55a2d2c0567f"
      },
      "execution_count": null,
      "outputs": [
        {
          "output_type": "execute_result",
          "data": {
            "text/plain": [
              "       age          job  marital  education default  balance housing loan  \\\n",
              "0       59       admin.  married  secondary      no     2343     yes   no   \n",
              "1       56       admin.  married  secondary      no       45      no   no   \n",
              "2       41   technician  married  secondary      no     1270     yes   no   \n",
              "3       55     services  married  secondary      no     2476     yes   no   \n",
              "4       54       admin.  married   tertiary      no      184      no   no   \n",
              "...    ...          ...      ...        ...     ...      ...     ...  ...   \n",
              "11157   33  blue-collar   single    primary      no        1     yes   no   \n",
              "11158   39     services  married  secondary      no      733      no   no   \n",
              "11159   32   technician   single  secondary      no       29      no   no   \n",
              "11160   43   technician  married  secondary      no        0      no  yes   \n",
              "11161   34   technician  married  secondary      no        0      no   no   \n",
              "\n",
              "        contact  day month  duration  campaign  pdays  previous poutcome  \\\n",
              "0       unknown    5   may      1042         1     -1         0  unknown   \n",
              "1       unknown    5   may      1467         1     -1         0  unknown   \n",
              "2       unknown    5   may      1389         1     -1         0  unknown   \n",
              "3       unknown    5   may       579         1     -1         0  unknown   \n",
              "4       unknown    5   may       673         2     -1         0  unknown   \n",
              "...         ...  ...   ...       ...       ...    ...       ...      ...   \n",
              "11157  cellular   20   apr       257         1     -1         0  unknown   \n",
              "11158   unknown   16   jun        83         4     -1         0  unknown   \n",
              "11159  cellular   19   aug       156         2     -1         0  unknown   \n",
              "11160  cellular    8   may         9         2    172         5  failure   \n",
              "11161  cellular    9   jul       628         1     -1         0  unknown   \n",
              "\n",
              "      deposit  \n",
              "0         yes  \n",
              "1         yes  \n",
              "2         yes  \n",
              "3         yes  \n",
              "4         yes  \n",
              "...       ...  \n",
              "11157      no  \n",
              "11158      no  \n",
              "11159      no  \n",
              "11160      no  \n",
              "11161      no  \n",
              "\n",
              "[11162 rows x 17 columns]"
            ],
            "text/html": [
              "\n",
              "  <div id=\"df-8b1262bf-9fcc-4750-bd04-2092aad3c975\">\n",
              "    <div class=\"colab-df-container\">\n",
              "      <div>\n",
              "<style scoped>\n",
              "    .dataframe tbody tr th:only-of-type {\n",
              "        vertical-align: middle;\n",
              "    }\n",
              "\n",
              "    .dataframe tbody tr th {\n",
              "        vertical-align: top;\n",
              "    }\n",
              "\n",
              "    .dataframe thead th {\n",
              "        text-align: right;\n",
              "    }\n",
              "</style>\n",
              "<table border=\"1\" class=\"dataframe\">\n",
              "  <thead>\n",
              "    <tr style=\"text-align: right;\">\n",
              "      <th></th>\n",
              "      <th>age</th>\n",
              "      <th>job</th>\n",
              "      <th>marital</th>\n",
              "      <th>education</th>\n",
              "      <th>default</th>\n",
              "      <th>balance</th>\n",
              "      <th>housing</th>\n",
              "      <th>loan</th>\n",
              "      <th>contact</th>\n",
              "      <th>day</th>\n",
              "      <th>month</th>\n",
              "      <th>duration</th>\n",
              "      <th>campaign</th>\n",
              "      <th>pdays</th>\n",
              "      <th>previous</th>\n",
              "      <th>poutcome</th>\n",
              "      <th>deposit</th>\n",
              "    </tr>\n",
              "  </thead>\n",
              "  <tbody>\n",
              "    <tr>\n",
              "      <th>0</th>\n",
              "      <td>59</td>\n",
              "      <td>admin.</td>\n",
              "      <td>married</td>\n",
              "      <td>secondary</td>\n",
              "      <td>no</td>\n",
              "      <td>2343</td>\n",
              "      <td>yes</td>\n",
              "      <td>no</td>\n",
              "      <td>unknown</td>\n",
              "      <td>5</td>\n",
              "      <td>may</td>\n",
              "      <td>1042</td>\n",
              "      <td>1</td>\n",
              "      <td>-1</td>\n",
              "      <td>0</td>\n",
              "      <td>unknown</td>\n",
              "      <td>yes</td>\n",
              "    </tr>\n",
              "    <tr>\n",
              "      <th>1</th>\n",
              "      <td>56</td>\n",
              "      <td>admin.</td>\n",
              "      <td>married</td>\n",
              "      <td>secondary</td>\n",
              "      <td>no</td>\n",
              "      <td>45</td>\n",
              "      <td>no</td>\n",
              "      <td>no</td>\n",
              "      <td>unknown</td>\n",
              "      <td>5</td>\n",
              "      <td>may</td>\n",
              "      <td>1467</td>\n",
              "      <td>1</td>\n",
              "      <td>-1</td>\n",
              "      <td>0</td>\n",
              "      <td>unknown</td>\n",
              "      <td>yes</td>\n",
              "    </tr>\n",
              "    <tr>\n",
              "      <th>2</th>\n",
              "      <td>41</td>\n",
              "      <td>technician</td>\n",
              "      <td>married</td>\n",
              "      <td>secondary</td>\n",
              "      <td>no</td>\n",
              "      <td>1270</td>\n",
              "      <td>yes</td>\n",
              "      <td>no</td>\n",
              "      <td>unknown</td>\n",
              "      <td>5</td>\n",
              "      <td>may</td>\n",
              "      <td>1389</td>\n",
              "      <td>1</td>\n",
              "      <td>-1</td>\n",
              "      <td>0</td>\n",
              "      <td>unknown</td>\n",
              "      <td>yes</td>\n",
              "    </tr>\n",
              "    <tr>\n",
              "      <th>3</th>\n",
              "      <td>55</td>\n",
              "      <td>services</td>\n",
              "      <td>married</td>\n",
              "      <td>secondary</td>\n",
              "      <td>no</td>\n",
              "      <td>2476</td>\n",
              "      <td>yes</td>\n",
              "      <td>no</td>\n",
              "      <td>unknown</td>\n",
              "      <td>5</td>\n",
              "      <td>may</td>\n",
              "      <td>579</td>\n",
              "      <td>1</td>\n",
              "      <td>-1</td>\n",
              "      <td>0</td>\n",
              "      <td>unknown</td>\n",
              "      <td>yes</td>\n",
              "    </tr>\n",
              "    <tr>\n",
              "      <th>4</th>\n",
              "      <td>54</td>\n",
              "      <td>admin.</td>\n",
              "      <td>married</td>\n",
              "      <td>tertiary</td>\n",
              "      <td>no</td>\n",
              "      <td>184</td>\n",
              "      <td>no</td>\n",
              "      <td>no</td>\n",
              "      <td>unknown</td>\n",
              "      <td>5</td>\n",
              "      <td>may</td>\n",
              "      <td>673</td>\n",
              "      <td>2</td>\n",
              "      <td>-1</td>\n",
              "      <td>0</td>\n",
              "      <td>unknown</td>\n",
              "      <td>yes</td>\n",
              "    </tr>\n",
              "    <tr>\n",
              "      <th>...</th>\n",
              "      <td>...</td>\n",
              "      <td>...</td>\n",
              "      <td>...</td>\n",
              "      <td>...</td>\n",
              "      <td>...</td>\n",
              "      <td>...</td>\n",
              "      <td>...</td>\n",
              "      <td>...</td>\n",
              "      <td>...</td>\n",
              "      <td>...</td>\n",
              "      <td>...</td>\n",
              "      <td>...</td>\n",
              "      <td>...</td>\n",
              "      <td>...</td>\n",
              "      <td>...</td>\n",
              "      <td>...</td>\n",
              "      <td>...</td>\n",
              "    </tr>\n",
              "    <tr>\n",
              "      <th>11157</th>\n",
              "      <td>33</td>\n",
              "      <td>blue-collar</td>\n",
              "      <td>single</td>\n",
              "      <td>primary</td>\n",
              "      <td>no</td>\n",
              "      <td>1</td>\n",
              "      <td>yes</td>\n",
              "      <td>no</td>\n",
              "      <td>cellular</td>\n",
              "      <td>20</td>\n",
              "      <td>apr</td>\n",
              "      <td>257</td>\n",
              "      <td>1</td>\n",
              "      <td>-1</td>\n",
              "      <td>0</td>\n",
              "      <td>unknown</td>\n",
              "      <td>no</td>\n",
              "    </tr>\n",
              "    <tr>\n",
              "      <th>11158</th>\n",
              "      <td>39</td>\n",
              "      <td>services</td>\n",
              "      <td>married</td>\n",
              "      <td>secondary</td>\n",
              "      <td>no</td>\n",
              "      <td>733</td>\n",
              "      <td>no</td>\n",
              "      <td>no</td>\n",
              "      <td>unknown</td>\n",
              "      <td>16</td>\n",
              "      <td>jun</td>\n",
              "      <td>83</td>\n",
              "      <td>4</td>\n",
              "      <td>-1</td>\n",
              "      <td>0</td>\n",
              "      <td>unknown</td>\n",
              "      <td>no</td>\n",
              "    </tr>\n",
              "    <tr>\n",
              "      <th>11159</th>\n",
              "      <td>32</td>\n",
              "      <td>technician</td>\n",
              "      <td>single</td>\n",
              "      <td>secondary</td>\n",
              "      <td>no</td>\n",
              "      <td>29</td>\n",
              "      <td>no</td>\n",
              "      <td>no</td>\n",
              "      <td>cellular</td>\n",
              "      <td>19</td>\n",
              "      <td>aug</td>\n",
              "      <td>156</td>\n",
              "      <td>2</td>\n",
              "      <td>-1</td>\n",
              "      <td>0</td>\n",
              "      <td>unknown</td>\n",
              "      <td>no</td>\n",
              "    </tr>\n",
              "    <tr>\n",
              "      <th>11160</th>\n",
              "      <td>43</td>\n",
              "      <td>technician</td>\n",
              "      <td>married</td>\n",
              "      <td>secondary</td>\n",
              "      <td>no</td>\n",
              "      <td>0</td>\n",
              "      <td>no</td>\n",
              "      <td>yes</td>\n",
              "      <td>cellular</td>\n",
              "      <td>8</td>\n",
              "      <td>may</td>\n",
              "      <td>9</td>\n",
              "      <td>2</td>\n",
              "      <td>172</td>\n",
              "      <td>5</td>\n",
              "      <td>failure</td>\n",
              "      <td>no</td>\n",
              "    </tr>\n",
              "    <tr>\n",
              "      <th>11161</th>\n",
              "      <td>34</td>\n",
              "      <td>technician</td>\n",
              "      <td>married</td>\n",
              "      <td>secondary</td>\n",
              "      <td>no</td>\n",
              "      <td>0</td>\n",
              "      <td>no</td>\n",
              "      <td>no</td>\n",
              "      <td>cellular</td>\n",
              "      <td>9</td>\n",
              "      <td>jul</td>\n",
              "      <td>628</td>\n",
              "      <td>1</td>\n",
              "      <td>-1</td>\n",
              "      <td>0</td>\n",
              "      <td>unknown</td>\n",
              "      <td>no</td>\n",
              "    </tr>\n",
              "  </tbody>\n",
              "</table>\n",
              "<p>11162 rows × 17 columns</p>\n",
              "</div>\n",
              "      <button class=\"colab-df-convert\" onclick=\"convertToInteractive('df-8b1262bf-9fcc-4750-bd04-2092aad3c975')\"\n",
              "              title=\"Convert this dataframe to an interactive table.\"\n",
              "              style=\"display:none;\">\n",
              "        \n",
              "  <svg xmlns=\"http://www.w3.org/2000/svg\" height=\"24px\"viewBox=\"0 0 24 24\"\n",
              "       width=\"24px\">\n",
              "    <path d=\"M0 0h24v24H0V0z\" fill=\"none\"/>\n",
              "    <path d=\"M18.56 5.44l.94 2.06.94-2.06 2.06-.94-2.06-.94-.94-2.06-.94 2.06-2.06.94zm-11 1L8.5 8.5l.94-2.06 2.06-.94-2.06-.94L8.5 2.5l-.94 2.06-2.06.94zm10 10l.94 2.06.94-2.06 2.06-.94-2.06-.94-.94-2.06-.94 2.06-2.06.94z\"/><path d=\"M17.41 7.96l-1.37-1.37c-.4-.4-.92-.59-1.43-.59-.52 0-1.04.2-1.43.59L10.3 9.45l-7.72 7.72c-.78.78-.78 2.05 0 2.83L4 21.41c.39.39.9.59 1.41.59.51 0 1.02-.2 1.41-.59l7.78-7.78 2.81-2.81c.8-.78.8-2.07 0-2.86zM5.41 20L4 18.59l7.72-7.72 1.47 1.35L5.41 20z\"/>\n",
              "  </svg>\n",
              "      </button>\n",
              "      \n",
              "  <style>\n",
              "    .colab-df-container {\n",
              "      display:flex;\n",
              "      flex-wrap:wrap;\n",
              "      gap: 12px;\n",
              "    }\n",
              "\n",
              "    .colab-df-convert {\n",
              "      background-color: #E8F0FE;\n",
              "      border: none;\n",
              "      border-radius: 50%;\n",
              "      cursor: pointer;\n",
              "      display: none;\n",
              "      fill: #1967D2;\n",
              "      height: 32px;\n",
              "      padding: 0 0 0 0;\n",
              "      width: 32px;\n",
              "    }\n",
              "\n",
              "    .colab-df-convert:hover {\n",
              "      background-color: #E2EBFA;\n",
              "      box-shadow: 0px 1px 2px rgba(60, 64, 67, 0.3), 0px 1px 3px 1px rgba(60, 64, 67, 0.15);\n",
              "      fill: #174EA6;\n",
              "    }\n",
              "\n",
              "    [theme=dark] .colab-df-convert {\n",
              "      background-color: #3B4455;\n",
              "      fill: #D2E3FC;\n",
              "    }\n",
              "\n",
              "    [theme=dark] .colab-df-convert:hover {\n",
              "      background-color: #434B5C;\n",
              "      box-shadow: 0px 1px 3px 1px rgba(0, 0, 0, 0.15);\n",
              "      filter: drop-shadow(0px 1px 2px rgba(0, 0, 0, 0.3));\n",
              "      fill: #FFFFFF;\n",
              "    }\n",
              "  </style>\n",
              "\n",
              "      <script>\n",
              "        const buttonEl =\n",
              "          document.querySelector('#df-8b1262bf-9fcc-4750-bd04-2092aad3c975 button.colab-df-convert');\n",
              "        buttonEl.style.display =\n",
              "          google.colab.kernel.accessAllowed ? 'block' : 'none';\n",
              "\n",
              "        async function convertToInteractive(key) {\n",
              "          const element = document.querySelector('#df-8b1262bf-9fcc-4750-bd04-2092aad3c975');\n",
              "          const dataTable =\n",
              "            await google.colab.kernel.invokeFunction('convertToInteractive',\n",
              "                                                     [key], {});\n",
              "          if (!dataTable) return;\n",
              "\n",
              "          const docLinkHtml = 'Like what you see? Visit the ' +\n",
              "            '<a target=\"_blank\" href=https://colab.research.google.com/notebooks/data_table.ipynb>data table notebook</a>'\n",
              "            + ' to learn more about interactive tables.';\n",
              "          element.innerHTML = '';\n",
              "          dataTable['output_type'] = 'display_data';\n",
              "          await google.colab.output.renderOutput(dataTable, element);\n",
              "          const docLink = document.createElement('div');\n",
              "          docLink.innerHTML = docLinkHtml;\n",
              "          element.appendChild(docLink);\n",
              "        }\n",
              "      </script>\n",
              "    </div>\n",
              "  </div>\n",
              "  "
            ]
          },
          "metadata": {},
          "execution_count": 30
        }
      ]
    },
    {
      "cell_type": "code",
      "source": [
        "df.info()"
      ],
      "metadata": {
        "colab": {
          "base_uri": "https://localhost:8080/"
        },
        "id": "x4Lozc3j1_M2",
        "outputId": "79e13ee8-d924-4261-ab0d-d4ddb239efba"
      },
      "execution_count": null,
      "outputs": [
        {
          "output_type": "stream",
          "name": "stdout",
          "text": [
            "<class 'pandas.core.frame.DataFrame'>\n",
            "RangeIndex: 11162 entries, 0 to 11161\n",
            "Data columns (total 17 columns):\n",
            " #   Column     Non-Null Count  Dtype \n",
            "---  ------     --------------  ----- \n",
            " 0   age        11162 non-null  int64 \n",
            " 1   job        11162 non-null  object\n",
            " 2   marital    11162 non-null  object\n",
            " 3   education  11162 non-null  object\n",
            " 4   default    11162 non-null  object\n",
            " 5   balance    11162 non-null  int64 \n",
            " 6   housing    11162 non-null  object\n",
            " 7   loan       11162 non-null  object\n",
            " 8   contact    11162 non-null  object\n",
            " 9   day        11162 non-null  int64 \n",
            " 10  month      11162 non-null  object\n",
            " 11  duration   11162 non-null  int64 \n",
            " 12  campaign   11162 non-null  int64 \n",
            " 13  pdays      11162 non-null  int64 \n",
            " 14  previous   11162 non-null  int64 \n",
            " 15  poutcome   11162 non-null  object\n",
            " 16  deposit    11162 non-null  object\n",
            "dtypes: int64(7), object(10)\n",
            "memory usage: 1.4+ MB\n"
          ]
        }
      ]
    },
    {
      "cell_type": "code",
      "source": [
        "list(df.keys())"
      ],
      "metadata": {
        "colab": {
          "base_uri": "https://localhost:8080/"
        },
        "id": "eKXtfiDc1S1M",
        "outputId": "c211c7c4-44c3-4d14-f9be-f63a926a685d"
      },
      "execution_count": null,
      "outputs": [
        {
          "output_type": "execute_result",
          "data": {
            "text/plain": [
              "['age',\n",
              " 'job',\n",
              " 'marital',\n",
              " 'education',\n",
              " 'default',\n",
              " 'balance',\n",
              " 'housing',\n",
              " 'loan',\n",
              " 'contact',\n",
              " 'day',\n",
              " 'month',\n",
              " 'duration',\n",
              " 'campaign',\n",
              " 'pdays',\n",
              " 'previous',\n",
              " 'poutcome',\n",
              " 'deposit']"
            ]
          },
          "metadata": {},
          "execution_count": 32
        }
      ]
    },
    {
      "cell_type": "code",
      "source": [
        "X1 = np.asarray(df[['age', 'balance', 'duration']])\n",
        "y1 = np.asarray(df['deposit'])"
      ],
      "metadata": {
        "id": "6_0KtR2t_Nkb"
      },
      "execution_count": null,
      "outputs": []
    },
    {
      "cell_type": "code",
      "source": [
        "print(X1[:10])"
      ],
      "metadata": {
        "colab": {
          "base_uri": "https://localhost:8080/"
        },
        "id": "ozqVfUn_Bf8b",
        "outputId": "9d488c88-7414-4a7a-8053-3ad678f58529"
      },
      "execution_count": null,
      "outputs": [
        {
          "output_type": "stream",
          "name": "stdout",
          "text": [
            "[[  59 2343 1042]\n",
            " [  56   45 1467]\n",
            " [  41 1270 1389]\n",
            " [  55 2476  579]\n",
            " [  54  184  673]\n",
            " [  42    0  562]\n",
            " [  56  830 1201]\n",
            " [  60  545 1030]\n",
            " [  37    1  608]\n",
            " [  28 5090 1297]]\n"
          ]
        }
      ]
    },
    {
      "cell_type": "code",
      "source": [
        "le = preprocessing.LabelEncoder()\n",
        "le.fit(['yes', 'no'])\n",
        "y1= le.transform(y1)\n",
        "print(y1[:10])"
      ],
      "metadata": {
        "colab": {
          "base_uri": "https://localhost:8080/"
        },
        "id": "VnopS8MwAj6b",
        "outputId": "2a72cf76-0b34-4569-8db9-e625cecea8b1"
      },
      "execution_count": null,
      "outputs": [
        {
          "output_type": "stream",
          "name": "stdout",
          "text": [
            "[1 1 1 1 1 1 1 1 1 1]\n"
          ]
        }
      ]
    },
    {
      "cell_type": "code",
      "source": [
        "logreg = LogisticRegression()\n",
        "logreg.fit(X1,y1)"
      ],
      "metadata": {
        "colab": {
          "base_uri": "https://localhost:8080/"
        },
        "id": "d6J_tKQr2sds",
        "outputId": "454a47f5-d046-436c-dd8b-c89194a43941"
      },
      "execution_count": null,
      "outputs": [
        {
          "output_type": "execute_result",
          "data": {
            "text/plain": [
              "LogisticRegression()"
            ]
          },
          "metadata": {},
          "execution_count": 37
        }
      ]
    },
    {
      "cell_type": "code",
      "source": [
        "X1_train, X1_test, y1_train, y1_test = train_test_split(X1, y1, train_size = 0.6)"
      ],
      "metadata": {
        "id": "6DZfFTfk3zNo"
      },
      "execution_count": null,
      "outputs": []
    },
    {
      "cell_type": "code",
      "source": [
        "print(\"Banyak data latih setelah dilakukan Train-Validation Split: \", len(X1_train))\n",
        "print(\"Banyak data uji setelah dilakukan Train-Validation Split: \", len(X1_test))"
      ],
      "metadata": {
        "colab": {
          "base_uri": "https://localhost:8080/"
        },
        "id": "QBKGZ4HN5RWu",
        "outputId": "9845fafb-033f-468e-c81f-1d5b32f626df"
      },
      "execution_count": null,
      "outputs": [
        {
          "output_type": "stream",
          "name": "stdout",
          "text": [
            "Banyak data latih setelah dilakukan Train-Validation Split:  6697\n",
            "Banyak data uji setelah dilakukan Train-Validation Split:  4465\n"
          ]
        }
      ]
    },
    {
      "cell_type": "code",
      "source": [
        "# Training a logistic regression model\n",
        "\n",
        "logreg = LogisticRegression(max_iter=1000)\n",
        "logreg.fit(X1_train, y1_train)\n",
        "Y1_pred = logreg.predict(X1_test)"
      ],
      "metadata": {
        "id": "JJrhgj7cQbXI"
      },
      "execution_count": null,
      "outputs": []
    },
    {
      "cell_type": "code",
      "source": [
        "# Applying confusion matrix on above data\n",
        "cm = confusion_matrix(y1_test, Y1_pred)\n"
      ],
      "metadata": {
        "id": "hxtHIf14AyvN"
      },
      "execution_count": null,
      "outputs": []
    },
    {
      "cell_type": "code",
      "source": [
        "print('Confusion matrix untuk Logistic Regression\\n',cm)\n",
        "sns.heatmap(cm, annot=True,fmt=\"f\" ).set_title('Confusion Matriks dari Logistic Regression')"
      ],
      "metadata": {
        "colab": {
          "base_uri": "https://localhost:8080/",
          "height": 354
        },
        "id": "NTnQQRnTfV-Z",
        "outputId": "0956b997-91f3-4071-e9d4-2079714d3fc3"
      },
      "execution_count": null,
      "outputs": [
        {
          "output_type": "stream",
          "name": "stdout",
          "text": [
            "Confusion matrix untuk Logistic Regression\n",
            " [[2012  369]\n",
            " [ 890 1194]]\n"
          ]
        },
        {
          "output_type": "execute_result",
          "data": {
            "text/plain": [
              "Text(0.5, 1.0, 'Confusion Matriks dari Logistic Regression')"
            ]
          },
          "metadata": {},
          "execution_count": 43
        },
        {
          "output_type": "display_data",
          "data": {
            "text/plain": [
              "<Figure size 432x288 with 2 Axes>"
            ],
            "image/png": "[encoded data removed]"
          },
          "metadata": {
            "needs_background": "light"
          }
        }
      ]
    },
    {
      "cell_type": "code",
      "source": [
        "# Presisi\n",
        "precision_score(y1_test,Y1_pred)"
      ],
      "metadata": {
        "colab": {
          "base_uri": "https://localhost:8080/"
        },
        "id": "sK3OOLeZBWvg",
        "outputId": "b8f97b64-0cd2-4eb3-b1da-ac35c0cbdd50"
      },
      "execution_count": null,
      "outputs": [
        {
          "output_type": "execute_result",
          "data": {
            "text/plain": [
              "0.763915547024952"
            ]
          },
          "metadata": {},
          "execution_count": 44
        }
      ]
    },
    {
      "cell_type": "code",
      "source": [
        "# Recall\n",
        "recall_score(y1_test,Y1_pred)"
      ],
      "metadata": {
        "colab": {
          "base_uri": "https://localhost:8080/"
        },
        "id": "aXb9sH6mCCh8",
        "outputId": "5832b27b-bd1b-44ae-cc09-7adad9063861"
      },
      "execution_count": null,
      "outputs": [
        {
          "output_type": "execute_result",
          "data": {
            "text/plain": [
              "0.572936660268714"
            ]
          },
          "metadata": {},
          "execution_count": 45
        }
      ]
    },
    {
      "cell_type": "code",
      "source": [
        "# F1\n",
        "from sklearn.metrics import f1_score\n",
        "f1_score(y1_test,Y1_pred)"
      ],
      "metadata": {
        "colab": {
          "base_uri": "https://localhost:8080/"
        },
        "id": "ED1BCetRCOWD",
        "outputId": "f786f5c4-f245-4b6e-e68e-769764283429"
      },
      "execution_count": null,
      "outputs": [
        {
          "output_type": "execute_result",
          "data": {
            "text/plain": [
              "0.6547847545928159"
            ]
          },
          "metadata": {},
          "execution_count": 46
        }
      ]
    },
    {
      "cell_type": "code",
      "source": [
        "# ROC\n",
        "from sklearn import metrics\n",
        "fpr, tpr, thresholds = metrics.roc_curve(y1_test, Y1_pred, pos_label=1)\n",
        "metrics.auc(fpr, tpr)"
      ],
      "metadata": {
        "colab": {
          "base_uri": "https://localhost:8080/"
        },
        "id": "i16OBkPACTL_",
        "outputId": "e29fe999-0cd2-4660-9e9a-9f3a1bfa02ba"
      },
      "execution_count": null,
      "outputs": [
        {
          "output_type": "execute_result",
          "data": {
            "text/plain": [
              "0.7089798799033616"
            ]
          },
          "metadata": {},
          "execution_count": 47
        }
      ]
    },
    {
      "cell_type": "code",
      "source": [
        "# Logarithmic Loss\n",
        "from sklearn.metrics import log_loss\n",
        "log_loss(y1_test,Y1_pred)"
      ],
      "metadata": {
        "colab": {
          "base_uri": "https://localhost:8080/"
        },
        "id": "LCnc32kjCbmq",
        "outputId": "edd1e454-e115-42c6-9455-7fe9da7a5ea0"
      },
      "execution_count": null,
      "outputs": [
        {
          "output_type": "execute_result",
          "data": {
            "text/plain": [
              "9.738995416045753"
            ]
          },
          "metadata": {},
          "execution_count": 48
        }
      ]
    }
  ]
}